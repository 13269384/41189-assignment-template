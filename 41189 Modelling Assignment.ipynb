{
 "cells": [
  {
   "cell_type": "markdown",
   "metadata": {
    "toc-hr-collapsed": false
   },
   "source": [
    " ## **41189 Modelling Assignment — Group 2**\n",
    " \n",
    " Topic: Impact of Covid-19 on the housing market\n",
    " \n",
    " Group members:\n",
    " \n",
    " - Sabi Gauchan Thakali\n",
    " - Alfiyyah Gurtala\n",
    " - Taylor Liew\n",
    " - Shino Takesako"
   ]
  },
  {
   "cell_type": "markdown",
   "metadata": {
    "toc-hr-collapsed": false
   },
   "source": [
    "# **Introduction**"
   ]
  },
  {
   "cell_type": "markdown",
   "metadata": {},
   "source": [
    "## State the problem, why it is important/relevant to you and/or more broadly to society"
   ]
  },
  {
   "cell_type": "markdown",
   "metadata": {},
   "source": [
    "The problem that is being investigated and researched through these models is the effects of Covid-19 on the housing market. Coronavirus is an infectious virus spread through the transmission of droplets e.g. exhale, sneeze, cough as these droplets hang in the air. As the world is currently living in a global pandemic this has created uncertainty and unpredictable outcomes for both consumers and business’. This has ultimately affected the way that society, markets, business’ and the world operate to accommodate this change. Previously, the Australian housing market has seen significant growth fueled by the demand of consumers as well as infrastructure investment from the government. However Coronavirus has resulted in significant effects of a recession creating falling consumer confidence with reduced demand for properties as workers are losing jobs and earning less money. This makes it much harder to borrow money from banks due to instability in jobs, with the housing market having to discount and lower prices for properties to make sales. \n",
    "\n",
    "However the government has also implemented some solutions to prevent the spread of this virus in the short term while the development of a vaccine is underway. This has consisted of the use of masks when going to public places to prevent the spreading of droplets to large numbers of people as well following social distancing rules of 1.5m to prevent bodily contact. Large event areas have had temporary shutdowns and now have restrictions on the number of people allowed inside to further prevent the fast spread of this disease. \n",
    "\n",
    "As a group, the effects of COvid-19 on the housing market creates both short and long term effects. Some student’s families do not have steady incomes and have resulted in dependence on centrelink and job seeker/ keeper. This can create increased short term distress and potential family issues, while potentially elevating later issues related to mental health. Due to the struggle to pay for basic necessities like the rent of their own home. The unpredictability of this situation can create different reactions from individuals depending on their personal circumstances. University students have also found it harder to find part time jobs as the workforce is shrinking and for those graduating this has made it even harder. \n",
    "\n",
    "Furthermore in the long-term as students start to buy a house or apartment this is an important investment which could benefit from this pandemic. This is because the housing market is unlikely to quickly bounce back and recover from this significant obstacle. Instead housing prices are expected to be lower for the next period of time making it cheaper and easier for this generation to buy or rent a house, assuming they have a steady job and income. \n",
    "The importance and relevance of coronavirus to society has already created significant short term effects impacting people’s day to day lives. Lowered consumer confidence and increasing levels of unemployment has created detrimental effects to the economy meaning people cannot live their lives normally. This has resulted in individuals and families having to find alternative homes when they can no longer afford rent, such as downgrading or even government housing. These changes in society have a multiplier effect from business’ all the way down to individuals, which can directly or indirectly create negative impacts. There isn’t a single individual that is not affected by these impacts and they have created challenges for day to day life and for the future. "
   ]
  },
  {
   "cell_type": "markdown",
   "metadata": {
    "toc-hr-collapsed": false
   },
   "source": [
    "# **Context, background information, justification**"
   ]
  },
  {
   "cell_type": "markdown",
   "metadata": {},
   "source": [
    "## Research and review literature, news, digital media, drivers and how the problem is being addressed by academia, industry, government, etc."
   ]
  },
  {
   "cell_type": "markdown",
   "metadata": {},
   "source": [
    "The issue of coronavirus in the housing market is a problem that is currently being addressed by the government, industry and academia. This is driven by the uncertainty and detrimental effects it has had on individuals and business’ currently and into the future. \n",
    "\n",
    "The government quickly responded to this sudden change when coronavirus was first reported in March. The Reserve Bank of Australia reacted by immediately decreasing the cash rate to a record low of 0.25% on March 19. This was an important response to accommodate the reaction of the economy following the difficulty in affordability of houses. Thus, making it cheaper to borrow money from the banks in hopes of stimulating and improving the economy. This can be seen in the graph below of the cash target rate by the RBA, and its reduction in response to current economic conditions. "
   ]
  },
  {
   "cell_type": "markdown",
   "metadata": {},
   "source": [
    "![cash rate graph](Cash rate.png)"
   ]
  },
  {
   "cell_type": "markdown",
   "metadata": {},
   "source": [
    "Figure 1, Cash rate"
   ]
  },
  {
   "cell_type": "markdown",
   "metadata": {},
   "source": [
    "The University of Melbourne models predicted that *“residential property prices across all capital cities will fall by \n",
    "4.4 per cent over the June quarter and by another 2.3 per cent in the September quarter of 2020. Sydney prices are \n",
    "predicted to fall by 4 per cent in the June quarter and about 2.5 per cent in the September quarter.”*\n",
    "This predicted fall in housing prices has followed the pattern of the current cash rate in response to the Coronavirus. \n",
    "It is hard to determine how effective this monetary policy is, as the effects of a lowered cash rate are significantly\n",
    "Influenced by other factors and tend to lag several months after being implemented. \n",
    "\n",
    "The government has also further responded by implementing stimulus packages and cash handouts to consumers to support small to medium business’. Aiming to help stimulate the economy and growth during this sluggish time by allowing for expansion and payment of bills and rent. This \\\\$17.6 billion stimulus package has three main aims: protecting Australian health, securing jobs and livelihood and being able to bounce back when this crisis is over. A further \\\\$750 cash payments to approximately 6.5 million people on low incomes costing \\\\$4.67 billion was implemented for economic stimulus to those in welfare or pensions. As this was only a quarter of stimulus, the remaining is for businesses to receive cash payments and wage subsidies for apprentices to help during this period of time. \n",
    "\n",
    "Businesses have had to respond to partial closures during peak coronavirus periods in lockdown, creating loss of profit and clientele. As a result this has had a multiplier effect resulting in reducing staff, reducing supplies and restricting the amount of people in their shop. There is only so much that can be done by these businesses to help their staff and shop from going under with uncertainty about when it will recover. Some businesses have seen opposite effects with a particular spike in alcohol and homeware purchases. Within the housing market strict closure of open homes and auctions were put to a hold during the lockdown, making it much harder to direct sales and achieve a strong market. Recently, restricted numbers in open houses are allowed with preference for personal bookings to reduce the spread. Similarly auctions are more likely to be held in auction rooms rather than on the actual property and pre-negotiated deals are usually preferred. \n",
    "\n",
    "With all this help and stimulus, this creates opportunity within the market to eventually recover and bounce back. As the cost of borrowing is historically low at record low interest rates and the economy has not fully shut down. This means that there is potential and opportunity for recovery for the economy but how long this will take is uncertain. "
   ]
  },
  {
   "cell_type": "markdown",
   "metadata": {},
   "source": [
    "## Identify the system + stakeholders. For this, you will need to construct a “rich picture” that captures the essential elements."
   ]
  },
  {
   "cell_type": "markdown",
   "metadata": {},
   "source": [
    "A system can be defined as a group of interacting or interrelated entities that form a unified whole. This is surrounded and further influenced by its environment and boundaries which form the structure and purpose. Systems contain multiple elements and parts which are necessary to form relationships to further perform functions. The Coronavirus in the housing market is a fairly open complex system as it is adaptive and fairly social. This is particularly because there is no textbook outcome of how different aspects of the system will be affected and to what extent. \n",
    "\n",
    "Stakeholders can be defined as those with a vested interest in the success of the business/ system. Coronavirus in the housing market affects many different involved parties which create different stakeholders. The government wants more people to buy houses as this means that individuals are paying stamp duty and taxes, creating a form of revenue. This revenue can be further injected into funding more infrastructure investment to build apartments and houses to create a cycle of revenue. Consumers are the ones that want to buy these different properties as it means they have a place to live and start their life. They are looking for the most valuable property to accommodate their individual needs which further benefits the economy through their consumption. All real estate business’ aim to sell a large number of properties at high prices as they are paid by commission and are seeking to receive a high profit. \n",
    "\n",
    "This rich picture creates a very visual interpretation of both the system and stakeholders capturing the essential elements. The main stakeholders are consumers, government and business’ as they play a vital role within the housing market that is now affected by the coronavirus. Essentially businesses provide a good or service which means they have to rent or buy a property to carry out these activities. They need to employ workers to be able to complete these tasks and they are then paid a wage. With this wage, workers and consumers need to have a place to stay e.g. a house or apartment which can be bought or rented. With the money they make, part of this will go to a real estate business to purchase a property as well as to the government through stamp duty and taxes. Similarly the real estate business will have to pay taxes e.g. company tax as well. This revenue generated from the interaction between business’ and consumers benefits the business as well as all parties involved. "
   ]
  },
  {
   "cell_type": "markdown",
   "metadata": {},
   "source": [
    "![](rich picture.png)"
   ]
  },
  {
   "cell_type": "markdown",
   "metadata": {},
   "source": [
    "Figure 2, Rich picture"
   ]
  },
  {
   "cell_type": "markdown",
   "metadata": {},
   "source": [
    "## Identify current models or prevailing frames that are being used to address the problem"
   ]
  },
  {
   "cell_type": "markdown",
   "metadata": {},
   "source": [
    "Models have been the forefront of many key policy decisions relating to COVID-19, largely due to the unforeseeable nature of the virus and many uncertainties about the spread. Models are important tools for shaping health systems during the pandemic, estimating epidemiological knowledge of the virus and its spread as well as determining the best path forward (Buckman et al., 2020). The virus has affected travel, retail, manufacturing, finance, technology and notably the housing industry. A study of how the current models are being addressed and how it has affected the Australian housing market will be discussed. The housing market is one of the major industries that drive the Australian economy through investment and construction. Across the globe, countries are struggling with COVID-19 both as a public health crisis and economic recession."
   ]
  },
  {
   "cell_type": "markdown",
   "metadata": {},
   "source": [
    "Although being identified back in December 2019 in Wuhan, China, COVID-19 became most prominent in Australia between late January to late June where it put many parts of Australia into a lockdown phase for several months. Australian Federal and State Governments have implemented several policies to protect renters and homeowners. There has been a significant response to the pandemic by the Australian Government with many programs in place to aid in the crisis period such as:\n",
    "- Pandemic Leave Disaster Payment\n",
    "- Energy Accounts Payment Assistance\n",
    "- Temporary Debt Protection\n",
    "- Six-month moratorium on residential tenancy evictions"
   ]
  },
  {
   "cell_type": "markdown",
   "metadata": {},
   "source": [
    "a) According to the World Health Organization (WHO), after the Severe Acute Respiratory Syndrome (SARS) pandemic back in 2003, Severe Acute Respiratory Syndrome Coronavirus 2 (SARS-CoV-2) was also identified in many species considered as delicacies in southern China at the time. At the time the WHO created a Global risk assessment framework during the inter-epidemic period to conduct the most appropriate strategy based on the country’s level of risk. In the risk assessment strategy, there are five outlined phases where the level of risk is incremental as the cases escalate (World Health Organization, 2004). This framework also includes WHO alerting the international community of the virus outbreak and its spread and that countries who have any cases must report to WHO within 24 hours of the receipt of positive test results."
   ]
  },
  {
   "cell_type": "markdown",
   "metadata": {},
   "source": [
    "![prepardness levels table](prepared.png)"
   ]
  },
  {
   "cell_type": "markdown",
   "metadata": {},
   "source": [
    "Figure 3, World Health Organization (2004)"
   ]
  },
  {
   "cell_type": "markdown",
   "metadata": {},
   "source": [
    "The Australian rental market in particular has been heavily impacted as prices have reduced with higher supply and lower demand. The Rental market began to decline from April 2020, mostly for apartments as some individuals chose to move back home with family, were no longer financially capable of paying rent due to lack of work available as lockdown proceeded (Evans et al., 2020). "
   ]
  },
  {
   "cell_type": "markdown",
   "metadata": {},
   "source": [
    "b) The Susceptible Exposed Infectious Recovered (SEIR) framework, acts similar to the way the SARS-CoV-2 spreads and is currently used to predict future transmission scenarios. The SEIR model indicates that individuals may flow in-between stages from Susceptible and infected individual come into contact, exposed indicates that there is a delay between exposure and infection, then the number of infectious individuals who are capable of spreading the virus and lastly in this stage these are individuals who have either been recovered, died or are resistant from the virus. Due to the four phases of the SEIR framework, it is classified as a compartmental model as each individual typically progresses from one phase to another in order. This type of model is also a mechanistic model, which assumes that a complex system can be understood by examining its individual parts and in the order, they work and is one of the only ways to analyse possible long term epidemiological outcomes (Holmdahl & Buckee, 2020). Models are a way for researchers to establish what is known about viral transmissions and to design improved systems that produce more dynamic results rather than human intuition alone. Hospitalisation and deaths have become reliable data, however, many biological features are still hard to depict and remain unknown (Holmdahl & Buckee, 2020). "
   ]
  },
  {
   "cell_type": "markdown",
   "metadata": {},
   "source": [
    "c) Statistical and machine learning models are emerging and have been created for forecasting confirmed cases, recovery, deaths, as well as incorporating categorical data such as age, gender, place of residence, health condition and travel history. These models focus on the importance of implementing social distancing measures to slow the spread of transmission. It is important for banks, investors and homeowners to have access to accurate house price predictions data. With the use of Machine Learning (ML) algorithms researchers are able to forecast house prices and predictions in Australia and compare it to traditional models. The Macquarie Business School as deployed 47 algorithms to generate predictions then it will use statistical tests to evaluate each forecast and find any variances. "
   ]
  },
  {
   "cell_type": "markdown",
   "metadata": {},
   "source": [
    "d) Extreme politics known as far-right politics are those who favour the dominant government groups and often treat other groups as irrational or unimportant. In the ICCT research paper, the author investigated the Far-right group using data from an open-source platform named Telegram where six crisis frames were identified. Unlike Facebook and Twitter where the inappropriate content is removed or banned, Telegram allowed for this propaganda to be unverifiable (McNeil-Willson, 2020). "
   ]
  },
  {
   "cell_type": "markdown",
   "metadata": {},
   "source": [
    "## Discuss how prevailing models/frames are preventing the problem from being fully addressed or solved"
   ]
  },
  {
   "cell_type": "markdown",
   "metadata": {},
   "source": [
    "a) There have been several claims that China failed to report the earliest positive test results with the WHO, thus unfolding the outbreak. However, the Chinese government acted swiftly and three weeks into the epidemic a lockdown with travel restrictions was applied. Shortly after, Quarantine was enforced to the rest of the cities which affected more than 50 million people. Although the virus outbreak is first to appear in China, it is also one of the first to contain it. According to the study conducted by Wang et al. (2020), 24.5% reported minimal psychologica impact, 21.7% reported mild impact and 53.8% reported severe impact. "
   ]
  },
  {
   "cell_type": "markdown",
   "metadata": {},
   "source": [
    "b) According to the findings by the National Academy of Sciences of the United States of America, in the early stages of the pandemic exponential growth is seen in the infection data as recoveries and deaths are not yet able to be recorded. According to the Australia Bureau of Statistics, residential property sales fell drastically in all of Australia’s capital cities during the June 2020 quarter with a weighted average of -1.8%; Sydney falling -2.2% behind. Residential property prices are important to policymakers, market analysts and researchers as it is used to study how the spread COVID-19 has affected the Australian housing market. There has been a considerable drop in domestic and foreign demand which are related to infection rates (C¸akmakli et al., 2020). "
   ]
  },
  {
   "cell_type": "markdown",
   "metadata": {},
   "source": [
    "![](property prices.png)"
   ]
  },
  {
   "cell_type": "markdown",
   "metadata": {},
   "source": [
    "Figure 5"
   ]
  },
  {
   "cell_type": "markdown",
   "metadata": {},
   "source": [
    "c) There are many challenges with forecasting house prices, the main issue being that there is a minimum length of available data as the virus only started to affect the Australian house market this year. Another challenge is that house price ratios are formulated in a monthly and quarterly fashion which makes it difficult to build and test  ML models. It was found by the Macquarie Business School that the best forecasting models are from a small scale model rather than the random walk model because there is room for cross-evaluation. Because the data set collected on Australia house prices are all new, released on a monthly frequency and the change in individuals income levels depending on the virus spread rate, it makes it difficult to construct algorithms to predict accurate prices for the future."
   ]
  },
  {
   "cell_type": "markdown",
   "metadata": {},
   "source": [
    "d) According to the ICCT report, it suggests that during the period of late February to late April there was a noticeable response to COVID-19 by the far-right group, most of their framework has been an act on authority, activism and pro-social behaviour using propaganda (McNeil-Willson, 2020). It has been suggested that this group has been exploiting the pandemic as a way to enforce propaganda and activism, for instance, such propaganda has been used to spread misinformation and to aid recruitment and induce violence. Thus, why there is a strong need to identify the influential crisis frames of far-right politics in order to develop community resilience (McNeil-Willson, 2020). Not only does framing help to understand symbols and models used by groups but it also helps in the evaluation and functionality of the frames itself. Whilst framing is important for identifying Far-right responses to the COVID crisis, it is also wise to consider how these frames and models behave in a wider political and economical context (Coibion et al., 2020). "
   ]
  },
  {
   "cell_type": "markdown",
   "metadata": {
    "toc-hr-collapsed": false
   },
   "source": [
    "# **Conceptual Models**"
   ]
  },
  {
   "cell_type": "markdown",
   "metadata": {},
   "source": [
    "## Based on your self-study of the supermarket of models, explain the three models that you have chosen to look at the problem"
   ]
  },
  {
   "cell_type": "markdown",
   "metadata": {},
   "source": [
    "The topic of Covid-19 and the housing market is extremely current and reflects the tumultuous times that society is facing. Due to these uncertain circumstances, people require tools and models to make the best possible decision. Therefore the decision tree is one of the models chosen to assist people in making decisions about Covid-19 and the housing market. The second model is the random walks model which is based on random chance, very similar to the unprecedented situation of Covid-19. The final model is the Markov model which aims to demonstrate the movement from one state to another. "
   ]
  },
  {
   "cell_type": "markdown",
   "metadata": {},
   "source": [
    "## Explain how each of the three models works (brief) and how it will be applied in your case."
   ]
  },
  {
   "cell_type": "markdown",
   "metadata": {},
   "source": [
    "### **Random Walks**"
   ]
  },
  {
   "cell_type": "markdown",
   "metadata": {},
   "source": [
    "The significance of the random walk model is based on the idea of flipping a coin where each variable has a 50/50 chance of making a random step away from the prior result. The stages of each data are individually and identically scattered, as the difference of the first variable states that the information taken is a random path that makes all approaches of forecasting to be useful as well as useless in the long run depending on the scenario given or the additional risks involved. Overall, the random walk model is a main tool to implement regardless of whether the model is used to predict and forecast particular situations (2020)."
   ]
  },
  {
   "cell_type": "markdown",
   "metadata": {},
   "source": [
    "### **Markov Models**"
   ]
  },
  {
   "cell_type": "markdown",
   "metadata": {},
   "source": [
    "The Markov model, named after Andrey Markov who was a Russian mathematician, it is a system that moves from one state to another. It is based on the theory that future states depend solely on the current states and that past states have no significance. The aim of this model is to see how likely it is for something to move from one state to another. Similarly, the Markov Convergence theorem states that as long as a couple of very mild assumptions hold true then the system will tend towards an equilibrium overtime. "
   ]
  },
  {
   "cell_type": "markdown",
   "metadata": {},
   "source": [
    "There are several different types of models depending on if the system state is fully or partially observable and if the system is autonomous or controlled. COVID-19 in the housing market can be explored through the Markov model to understand the behaviour, trends and patterns that are being followed. This particularly can look at how to predict the number of new cases and how this may be affecting the housing market. "
   ]
  },
  {
   "cell_type": "markdown",
   "metadata": {},
   "source": [
    "### **Decision Trees**"
   ]
  },
  {
   "cell_type": "markdown",
   "metadata": {},
   "source": [
    "The decision tree is a model which assists people in decision making as it clearly depicts outcomes from a series of choices. The flow chart visualisation begins with a root node that breaks off into subsequent internal nodes which have arrows pointing towards and away from them to represent specific choices of an attribute. Each branch demonstrates the outcome of the test. Additional to the structure of decision trees are leaf nodes which only have arrows pointing towards them to highlight the decision taken after considering and computing all attributes. Decision trees are an extremely useful model as they are simple to understand and provide simulations of possible scenarios and outcomes. "
   ]
  },
  {
   "cell_type": "markdown",
   "metadata": {},
   "source": [
    "The Covid-19 pandemic has brought about mass disruption as the situation is continuously changing. Clearly, there is huge uncertainty when it comes to making decisions as there are a large range of factors that contribute to making a choice. Unfortunately during these unprecedented times, the ability for people to ascertain a concrete outcome is extremely difficult. The fear of another uncontrollable outbreak occurring in Australia has made many people wary of committing to decisions as they are unsure if what they based their decision on will be valid in the future. The major factor of uncertainty about the future is contributing to people’s fear and worries as they may feel like there are no answers. It is due to these limiting factors of uncertainty in one outcome that decision tree models will be extremely useful. By providing a way to model a wide variety of influencing factors, decision trees offer aid in decision making as they demonstrate possible consequences and include the probability of that event occurring. It is because of these qualities of a decision tree model that they will be extremely useful in assisting people to predict whether selling their property will benefit them or not. Furthermore, by considering the circumstances this information can help predict the impact on covid-19 on the housing market. Ultimately, the decision tree will be used to predict the outcome of people selling or not selling their properties due to factors related Covid-19."
   ]
  },
  {
   "cell_type": "markdown",
   "metadata": {},
   "source": [
    "Due to the Covid-19 pandemic common daily decisions and ways of life are constantly changing as new discoveries are found. From this, making any variety of choices are affected by factors such as finances, social and political influences which may alter the end goal. In a time of doubt, accepting what is happening in people’s lives, jobs and the economy, in particular the impact towards the housing market is important, as it is the one of the major sources of prosperity for most Australian families (Brugler, 2020). The pandemic has produced one of the quickest and greatest global economic shortenings towards the property market. As house values generally take longer to change or have an effect based on the different reasons caused by the economy. Fundamentally, houses are harder to buy and sell than stocks and bonds, as individuals view houses as more than just an investment. By using the random walk model, it would create an effective market theory, which can indicate the previous house prices and reflect the impact of the outbreak with current available information, based on the facts provided any changes in the cost should be at random (Yardney, 2020)."
   ]
  },
  {
   "cell_type": "markdown",
   "metadata": {},
   "source": [
    "## Describe any data sources (real or hypothetical) that are needed to construct the three models. Use illustrative drawings and diagrams where possible"
   ]
  },
  {
   "cell_type": "markdown",
   "metadata": {},
   "source": [
    "### **Random Walks**"
   ]
  },
  {
   "cell_type": "markdown",
   "metadata": {},
   "source": [
    "From the multiple factors influencing the housing market price due to the pandemic, decisions on whether to buy or sell during this timeframe is uncertain for most Australian individuals and families. The notion that people wanting to buy property during this time is to purchase at the lowest rate and price, whereas those that want to sell are to gain as much profit as possible. When creating a random walk model, the data gathered from research should consist of the interest rate, demand based on location and income prior to COVID-19 as well the current data collected during this period (Saunders & Tulip, 2019). "
   ]
  },
  {
   "cell_type": "markdown",
   "metadata": {},
   "source": [
    "To develop a random walk model, start with a random number of either -1 or 1. After this step, randomly select any of the digits then increase the amount to the observation from the previous time step and repeat the steps for as long as needed. This process can be described by y(t) = B0 + B1*X(t-1) + e(t), where y(t) is the following value in the sequence. B0 is a coefficient that if set to a value other than zero adds a constant drift to the random walk. B1 is a factor to weight the previous time step and is set to 1.0. X(t-1) is the remark at the previous time step. e(t) is the white noise or random variation at that time (Brownlee, 2020)."
   ]
  },
  {
   "cell_type": "markdown",
   "metadata": {},
   "source": [
    "![](random walk image.png)"
   ]
  },
  {
   "cell_type": "markdown",
   "metadata": {},
   "source": [
    "Figure 6 (Brownlee, 2017)"
   ]
  },
  {
   "cell_type": "markdown",
   "metadata": {},
   "source": [
    "![](ff.png)"
   ]
  },
  {
   "cell_type": "markdown",
   "metadata": {},
   "source": [
    "Figure 7 (Yardney, 2020)"
   ]
  },
  {
   "cell_type": "markdown",
   "metadata": {},
   "source": [
    "![](asas.png)"
   ]
  },
  {
   "cell_type": "markdown",
   "metadata": {},
   "source": [
    "Figure 8 (Yardney, 2020)\n"
   ]
  },
  {
   "cell_type": "markdown",
   "metadata": {},
   "source": [
    "In figure 6 the python code can demonstrate the process and development of the time steps for a random walk model, which can be altered to plot the changes in housing prices over the months shown in figure 7 or between different locations based on the statistics from figure 8 to identify the increases and decreases in price pre-COVID to the current status. From the information gathered, the impact on estate prices will be contingent on how lengthy it will take to comprise the disease, how employment growth will recoil and the levels of consumer certainty (Yardney, 2020)."
   ]
  },
  {
   "cell_type": "markdown",
   "metadata": {},
   "source": [
    "### **Markov Models**"
   ]
  },
  {
   "cell_type": "markdown",
   "metadata": {},
   "source": [
    "In order to create a Markov Model, more than one state and transitional probabilities are required, everytime an action is taken from one state to another, it is called a transitional event. All transitional probabilities going out of a state should always equal to one e.g COVID-19 decreasing housing prices has a probability score of 0.6, COVID-19 increasing housing prices has a score of 0.3 and house prices remaining the same has a score of 0.1, therefore, all probabilities resulting in 1. Typically, we must watch the process and count how many times a probability transition takes place, in this case, we need to count how many properties there are in the market and how many are sold."
   ]
  },
  {
   "cell_type": "markdown",
   "metadata": {},
   "source": [
    "#### *Transitional probability matrix*"
   ]
  },
  {
   "cell_type": "markdown",
   "metadata": {},
   "source": [
    "![](transitionalNew.png)"
   ]
  },
  {
   "cell_type": "markdown",
   "metadata": {},
   "source": [
    "An example of a market simulator using Markov Chains and Python was chosen to help devise the model for the Australian Housing Market.\n",
    " \n",
    "There are three parts of constructing a Markov model, the initial state, the transitional probabilities and the end state. "
   ]
  },
  {
   "cell_type": "markdown",
   "metadata": {},
   "source": [
    "![](1234.png)"
   ]
  },
  {
   "cell_type": "markdown",
   "metadata": {},
   "source": [
    "Figure 9 , Lucid chart (2020)"
   ]
  },
  {
   "cell_type": "markdown",
   "metadata": {},
   "source": [
    "#### *Google Page Rank Algorithm*"
   ]
  },
  {
   "cell_type": "markdown",
   "metadata": {},
   "source": [
    "For example, Google uses the page rank algorithm to run web pages on the order of their priority which is based on the idea of the Markov model. PageRank is an algorithm used by Google to rank pages in the search engine and for example, upon searching Markov model on Google, it provides the top ten popular pages. The web consists of pages and the pages can be connected to one another via links. Google’s page rank algorithm assumes that if many other pages are linked to a particular page, that page is generally important meaning a web page that is linked to more other pages is considered to be more important than one that is not. \n"
   ]
  },
  {
   "cell_type": "markdown",
   "metadata": {},
   "source": [
    "![](dwellingvalues.png)"
   ]
  },
  {
   "cell_type": "markdown",
   "metadata": {},
   "source": [
    "(Gord Collins, 2020)"
   ]
  },
  {
   "cell_type": "markdown",
   "metadata": {},
   "source": [
    "There is no doubt that COVID-19 has severely impacted all housing forecasts made from the last two years. The housing market will continue to go down as long as unemployment rates go up resulting in increasing property prices. "
   ]
  },
  {
   "cell_type": "markdown",
   "metadata": {},
   "source": [
    "![](simplemarkovmodel.png)"
   ]
  },
  {
   "cell_type": "markdown",
   "metadata": {},
   "source": [
    "(Medium, 2018)"
   ]
  },
  {
   "cell_type": "markdown",
   "metadata": {},
   "source": [
    "### **Decision Trees**"
   ]
  },
  {
   "cell_type": "markdown",
   "metadata": {},
   "source": [
    "There are a multitude of factors that will influence whether people feel safe enough to sell their properties. Based upon the assumption that people want to make the greatest profit from selling their property, the factor of increasing or decreasing house prices must be considered. Furthermore, data regarding the level of demand, unemployment rate, cash rate and Covid-19 cases must be considered when formulating the decision tree (Figure 11). This data will influence the probability of individuals deciding to sell their property or not. The same concept can also be applied to the probability of individuals deciding to buy property or not.  Moreover, it would be useful to compare the data from this time last year to ascertain how the circumstances during 2019 were impacting people’s decisions."
   ]
  },
  {
   "cell_type": "markdown",
   "metadata": {},
   "source": [
    "<div>\n",
    "<img src=\"Factors.png\" alt=\"Drawing\" style=\"width:500px;height:1400px;\"/>\n",
    "</div>"
   ]
  },
  {
   "cell_type": "markdown",
   "metadata": {},
   "source": [
    "Figure 11"
   ]
  },
  {
   "cell_type": "markdown",
   "metadata": {},
   "source": [
    "In order to determine the probability of sellers and buyers, mock tree diagrams have been constructed. Figure 12 and 13 represents a simplified diagram which reflects the choices made by people deciding to buy, sell or do nothing. The nodes represent a choice being made, however in order to determine the probability of each decision occurring, it is important to consider data sources which reflect the current demand for property, prices and interest rates. To show this, figure 14 provides a more in depth breakdown of the possible data that will showcase the current situation in the housing market. Based on our research, the hot pink nodes demonstrate the current choices people are making as influenced by Covid-19. However, moving forward it will be imperative to attain data sources which can support this diagram. "
   ]
  },
  {
   "cell_type": "markdown",
   "metadata": {},
   "source": [
    "<div>\n",
    "<img src=\"Figure 2.png\" alt=\"Drawing\" style=\"width:400px;height:400px;\"/>\n",
    "</div>"
   ]
  },
  {
   "cell_type": "markdown",
   "metadata": {},
   "source": [
    "Figure 12"
   ]
  },
  {
   "cell_type": "markdown",
   "metadata": {},
   "source": [
    "<img src=\"Figure 3.png\" alt=\"Drawing\" style=\"width:350px;height:400px;\"/>"
   ]
  },
  {
   "cell_type": "markdown",
   "metadata": {},
   "source": [
    "Figure 13"
   ]
  },
  {
   "cell_type": "markdown",
   "metadata": {},
   "source": [
    "![Figure 4](Figure 5.png)"
   ]
  },
  {
   "cell_type": "markdown",
   "metadata": {},
   "source": [
    "Figure 14"
   ]
  },
  {
   "cell_type": "markdown",
   "metadata": {
    "toc-hr-collapsed": false
   },
   "source": [
    "# **Implementation**"
   ]
  },
  {
   "cell_type": "markdown",
   "metadata": {},
   "source": [
    "## Describe the mathematical and/or statistical implementation of your three models. This should be done using Python code."
   ]
  },
  {
   "cell_type": "markdown",
   "metadata": {},
   "source": [
    "### **Random Walks**"
   ]
  },
  {
   "cell_type": "markdown",
   "metadata": {},
   "source": [
    "When creating a random walks model the starting random number should either be -1 or 1. By randomly choosing a number (-1 or 1) and then adding it to the previous time step should create a random variation at that particular time. This process or steps can be repeated as desired by the individual (Brownlee, 2020)."
   ]
  },
  {
   "cell_type": "code",
   "execution_count": 43,
   "metadata": {},
   "outputs": [
    {
     "data": {
      "image/png": "[encoded data removed]",
      "text/plain": [
       "<Figure size 432x288 with 1 Axes>"
      ]
     },
     "metadata": {
      "needs_background": "light"
     },
     "output_type": "display_data"
    }
   ],
   "source": [
    "from random import seed\n",
    "from random import random \n",
    "from matplotlib import pyplot\n",
    "seed(1)\n",
    "random_walk = list()\n",
    "random_walk.append(-1 if random () < 0.5 else 1)\n",
    "for i in range (1, 1000):\n",
    "    movement = -1 if random() < 0.5 else 1\n",
    "    value = random_walk[i-1] + movement \n",
    "    random_walk.append(value)\n",
    "pyplot.plot(random_walk)\n",
    "pyplot.show()"
   ]
  },
  {
   "cell_type": "markdown",
   "metadata": {},
   "source": [
    "When implementing the python code by looping the process over and structuring a list of a number, in the code above the list of 10000 time steps is implied for the random walk (Brownlee, 2020)."
   ]
  },
  {
   "cell_type": "markdown",
   "metadata": {},
   "source": [
    "### **Markov Model**"
   ]
  },
  {
   "cell_type": "code",
   "execution_count": 44,
   "metadata": {},
   "outputs": [
    {
     "data": {
      "text/plain": [
       "Text(0, 0.5, 'Next state')"
      ]
     },
     "execution_count": 44,
     "metadata": {},
     "output_type": "execute_result"
    },
    {
     "data": {
      "image/png": "[encoded data removed]",
      "text/plain": [
       "<Figure size 792x576 with 1 Axes>"
      ]
     },
     "metadata": {
      "needs_background": "light"
     },
     "output_type": "display_data"
    }
   ],
   "source": [
    "import numpy as np\n",
    "a_val,b_val,c_val = [],[],[]\n",
    "# initial state\n",
    "init_state = np.array([188969, 81356, 14210])\n",
    "# transition matrix\n",
    "a = np.array([[ 0.89, 0.75 ,0.49], [ 0.10, 0.22 ,0.44], [ 0.01, 0.03 ,0.07]])\n",
    "for x in range(10):\n",
    "    a_val.append(init_state[0])\n",
    "    b_val.append(init_state[1])\n",
    "    c_val.append(init_state[2])\n",
    "    b = init_state\n",
    "    init_state = a.dot(b)\n",
    "# plotting\n",
    "import matplotlib.pyplot as plt\n",
    "plt.figure(figsize=(11,8))\n",
    "plt.plot( [x for x in range(10)], a_val, marker='o', markerfacecolor='blue', markersize=12, color='skyblue', linewidth=4,label=' + Housing Prices')\n",
    "plt.plot( [x for x in range(10)], b_val, marker='o', markerfacecolor='red', markersize=12, color='pink', linewidth=4,label=' - Housing prices')\n",
    "plt.plot( [x for x in range(10)], c_val, marker='o', markerfacecolor='orange', markersize=12, color='yellow', linewidth=4,label=' = Housing prices')\n",
    "plt.legend(loc='best')\n",
    "plt.xlabel('Current state')\n",
    "plt.ylabel('Next state')"
   ]
  },
  {
   "cell_type": "code",
   "execution_count": 45,
   "metadata": {},
   "outputs": [
    {
     "data": {
      "text/plain": [
       "Text(0, 0.5, 'Next state')"
      ]
     },
     "execution_count": 45,
     "metadata": {},
     "output_type": "execute_result"
    },
    {
     "data": {
      "image/png": "[encoded data removed]",
      "text/plain": [
       "<Figure size 792x576 with 1 Axes>"
      ]
     },
     "metadata": {
      "needs_background": "light"
     },
     "output_type": "display_data"
    }
   ],
   "source": [
    "import numpy as np\n",
    "a_val,b_val,c_val = [],[],[]\n",
    "# initial state\n",
    "init_state = np.array([188969, 81356, 14210])\n",
    "# transition matrix\n",
    "a = np.array([[ 0.89, 0.75 ,0.49], [ 0.10, 0.22 ,0.44], [ 0.01, 0.03 ,0.07]])\n",
    "for x in range(10):\n",
    "    a_val.append(init_state[0])\n",
    "    b_val.append(init_state[1])\n",
    "    c_val.append(init_state[2])\n",
    "    b = init_state\n",
    "    init_state = a.dot(b)\n",
    "# plotting\n",
    "import matplotlib.pyplot as plt\n",
    "plt.figure(figsize=(11,8))\n",
    "plt.plot( [x for x in range(10)], a_val, marker='o', markerfacecolor='blue', markersize=12, color='skyblue', linewidth=4,label=' + Housing Prices')\n",
    "plt.plot( [x for x in range(10)], b_val, marker='o', markerfacecolor='red', markersize=12, color='pink', linewidth=4,label=' - Housing prices')\n",
    "plt.plot( [x for x in range(10)], c_val, marker='o', markerfacecolor='orange', markersize=12, color='yellow', linewidth=4,label=' = Housing prices')\n",
    "plt.legend(loc='best')\n",
    "plt.xlabel('Current state')\n",
    "plt.ylabel('Next state')"
   ]
  },
  {
   "cell_type": "markdown",
   "metadata": {},
   "source": [
    "### **Decision Tree**"
   ]
  },
  {
   "cell_type": "code",
   "execution_count": 46,
   "metadata": {},
   "outputs": [],
   "source": [
    "# Load libraries\n",
    "import pandas as pd\n",
    "from sklearn.tree import DecisionTreeClassifier # Import Decision Tree Classifier\n",
    "from sklearn.model_selection import train_test_split # Import train_test_split function\n",
    "from sklearn import metrics #Import scikit-learn metrics module for accuracy calculation"
   ]
  },
  {
   "cell_type": "code",
   "execution_count": 47,
   "metadata": {},
   "outputs": [
    {
     "data": {
      "text/html": [
       "<div>\n",
       "<style scoped>\n",
       "    .dataframe tbody tr th:only-of-type {\n",
       "        vertical-align: middle;\n",
       "    }\n",
       "\n",
       "    .dataframe tbody tr th {\n",
       "        vertical-align: top;\n",
       "    }\n",
       "\n",
       "    .dataframe thead th {\n",
       "        text-align: right;\n",
       "    }\n",
       "</style>\n",
       "<table border=\"1\" class=\"dataframe\">\n",
       "  <thead>\n",
       "    <tr style=\"text-align: right;\">\n",
       "      <th></th>\n",
       "      <th>Week</th>\n",
       "      <th>Covid-19 Cases</th>\n",
       "      <th>Cash Rate</th>\n",
       "      <th>Unemployment Rate</th>\n",
       "      <th>Average Price</th>\n",
       "      <th>Total_Sales</th>\n",
       "    </tr>\n",
       "  </thead>\n",
       "  <tbody>\n",
       "    <tr>\n",
       "      <th>0</th>\n",
       "      <td>1</td>\n",
       "      <td>0</td>\n",
       "      <td>0.75</td>\n",
       "      <td>5.3</td>\n",
       "      <td>1051000</td>\n",
       "      <td>48</td>\n",
       "    </tr>\n",
       "    <tr>\n",
       "      <th>1</th>\n",
       "      <td>2</td>\n",
       "      <td>0</td>\n",
       "      <td>0.75</td>\n",
       "      <td>5.3</td>\n",
       "      <td>1051000</td>\n",
       "      <td>48</td>\n",
       "    </tr>\n",
       "    <tr>\n",
       "      <th>2</th>\n",
       "      <td>3</td>\n",
       "      <td>0</td>\n",
       "      <td>0.75</td>\n",
       "      <td>5.3</td>\n",
       "      <td>1051000</td>\n",
       "      <td>48</td>\n",
       "    </tr>\n",
       "    <tr>\n",
       "      <th>3</th>\n",
       "      <td>4</td>\n",
       "      <td>4</td>\n",
       "      <td>0.75</td>\n",
       "      <td>5.3</td>\n",
       "      <td>1051000</td>\n",
       "      <td>48</td>\n",
       "    </tr>\n",
       "    <tr>\n",
       "      <th>4</th>\n",
       "      <td>5</td>\n",
       "      <td>4</td>\n",
       "      <td>0.75</td>\n",
       "      <td>5.1</td>\n",
       "      <td>1100000</td>\n",
       "      <td>49</td>\n",
       "    </tr>\n",
       "  </tbody>\n",
       "</table>\n",
       "</div>"
      ],
      "text/plain": [
       "   Week  Covid-19 Cases  Cash Rate  Unemployment Rate  Average Price  \\\n",
       "0     1               0       0.75                5.3        1051000   \n",
       "1     2               0       0.75                5.3        1051000   \n",
       "2     3               0       0.75                5.3        1051000   \n",
       "3     4               4       0.75                5.3        1051000   \n",
       "4     5               4       0.75                5.1        1100000   \n",
       "\n",
       "   Total_Sales  \n",
       "0           48  \n",
       "1           48  \n",
       "2           48  \n",
       "3           48  \n",
       "4           49  "
      ]
     },
     "execution_count": 47,
     "metadata": {},
     "output_type": "execute_result"
    }
   ],
   "source": [
    "col_names = ['Week','Covid-19 Cases','Cash Rate','Unemployment Rate','Average Price','Total_Sales']\n",
    "# load dataset\n",
    "df = pd.read_csv(\"new-decision-tree-data3.csv\") \n",
    "df.head()"
   ]
  },
  {
   "cell_type": "code",
   "execution_count": 48,
   "metadata": {},
   "outputs": [],
   "source": [
    "#split dataset in features and target variable\n",
    "X = df[['Week','Covid-19 Cases','Cash Rate','Unemployment Rate','Average Price']] # Features"
   ]
  },
  {
   "cell_type": "code",
   "execution_count": 49,
   "metadata": {},
   "outputs": [
    {
     "data": {
      "text/plain": [
       "Index(['Week', 'Covid-19 Cases', 'Cash Rate', 'Unemployment Rate',\n",
       "       'Average Price'],\n",
       "      dtype='object')"
      ]
     },
     "execution_count": 49,
     "metadata": {},
     "output_type": "execute_result"
    }
   ],
   "source": [
    "# Create a list of feature column's names\n",
    "features = df.columns[:5]\n",
    "# View features\n",
    "features"
   ]
  },
  {
   "cell_type": "code",
   "execution_count": 50,
   "metadata": {},
   "outputs": [
    {
     "data": {
      "text/plain": [
       "(41, 5)"
      ]
     },
     "execution_count": 50,
     "metadata": {},
     "output_type": "execute_result"
    }
   ],
   "source": [
    "X.shape"
   ]
  },
  {
   "cell_type": "code",
   "execution_count": 51,
   "metadata": {},
   "outputs": [],
   "source": [
    "y = df['Total_Sales'] # Target variable"
   ]
  },
  {
   "cell_type": "code",
   "execution_count": 52,
   "metadata": {},
   "outputs": [],
   "source": [
    "# Split dataset into training set and test set\n",
    "X_train, X_test, y_train, y_test = train_test_split(X, y, test_size=0.3, random_state=1) # 70% training and 30% test"
   ]
  },
  {
   "cell_type": "code",
   "execution_count": 55,
   "metadata": {},
   "outputs": [],
   "source": [
    "# Create Decision Tree classifer object\n",
    "clf = DecisionTreeClassifier()\n",
    "# Train Decision Tree Classifer\n",
    "clf = clf.fit(X_train,y_train)\n",
    "#Predict the response for test dataset\n",
    "y_pred = clf.predict(X_test)"
   ]
  },
  {
   "cell_type": "code",
   "execution_count": 56,
   "metadata": {},
   "outputs": [
    {
     "name": "stdout",
     "output_type": "stream",
     "text": [
      "Accuracy: 92.3076923076923\n"
     ]
    }
   ],
   "source": [
    "# Model Accuracy, how often is the classifier correct?\n",
    "print(\"Accuracy:\",metrics.accuracy_score(y_test, y_pred)*100)"
   ]
  },
  {
   "cell_type": "code",
   "execution_count": 57,
   "metadata": {},
   "outputs": [],
   "source": [
    "from sklearn import tree"
   ]
  },
  {
   "cell_type": "code",
   "execution_count": 58,
   "metadata": {},
   "outputs": [
    {
     "data": {
      "text/plain": [
       "[Text(167.4, 195.696, 'X[1] <= 2983.0\\ngini = 0.809\\nsamples = 28\\nvalue = [5, 2, 2, 8, 6, 4, 1]'),\n",
       " Text(55.800000000000004, 152.208, 'X[4] <= 1075500.0\\ngini = 0.571\\nsamples = 14\\nvalue = [0, 0, 2, 8, 0, 4, 0]'),\n",
       " Text(27.900000000000002, 108.72, 'gini = 0.0\\nsamples = 2\\nvalue = [0, 0, 2, 0, 0, 0, 0]'),\n",
       " Text(83.7, 108.72, 'X[1] <= 12.5\\ngini = 0.444\\nsamples = 12\\nvalue = [0, 0, 0, 8, 0, 4, 0]'),\n",
       " Text(55.800000000000004, 65.232, 'gini = 0.0\\nsamples = 4\\nvalue = [0, 0, 0, 4, 0, 0, 0]'),\n",
       " Text(111.60000000000001, 65.232, 'X[4] <= 1113750.0\\ngini = 0.5\\nsamples = 8\\nvalue = [0, 0, 0, 4, 0, 4, 0]'),\n",
       " Text(83.7, 21.744, 'gini = 0.0\\nsamples = 4\\nvalue = [0, 0, 0, 0, 0, 4, 0]'),\n",
       " Text(139.5, 21.744, 'gini = 0.0\\nsamples = 4\\nvalue = [0, 0, 0, 4, 0, 0, 0]'),\n",
       " Text(279.0, 152.208, 'X[1] <= 3888.5\\ngini = 0.663\\nsamples = 14\\nvalue = [5, 2, 0, 0, 6, 0, 1]'),\n",
       " Text(251.10000000000002, 108.72, 'X[1] <= 3645.0\\ngini = 0.494\\nsamples = 9\\nvalue = [0, 2, 0, 0, 6, 0, 1]'),\n",
       " Text(223.20000000000002, 65.232, 'X[4] <= 1113500.0\\ngini = 0.245\\nsamples = 7\\nvalue = [0, 0, 0, 0, 6, 0, 1]'),\n",
       " Text(195.3, 21.744, 'gini = 0.0\\nsamples = 1\\nvalue = [0, 0, 0, 0, 0, 0, 1]'),\n",
       " Text(251.10000000000002, 21.744, 'gini = 0.0\\nsamples = 6\\nvalue = [0, 0, 0, 0, 6, 0, 0]'),\n",
       " Text(279.0, 65.232, 'gini = 0.0\\nsamples = 2\\nvalue = [0, 2, 0, 0, 0, 0, 0]'),\n",
       " Text(306.90000000000003, 108.72, 'gini = 0.0\\nsamples = 5\\nvalue = [5, 0, 0, 0, 0, 0, 0]')]"
      ]
     },
     "execution_count": 58,
     "metadata": {},
     "output_type": "execute_result"
    },
    {
     "data": {
      "image/png": "[encoded data removed]",
      "text/plain": [
       "<Figure size 432x288 with 1 Axes>"
      ]
     },
     "metadata": {
      "needs_background": "light"
     },
     "output_type": "display_data"
    }
   ],
   "source": [
    "tree.plot_tree(clf, filled=True) "
   ]
  },
  {
   "cell_type": "markdown",
   "metadata": {
    "toc-hr-collapsed": false
   },
   "source": [
    "# **Scenario analysis, sensitivity + uncertainty evaluation**"
   ]
  },
  {
   "cell_type": "markdown",
   "metadata": {},
   "source": [
    "## Establish baseline parameter sets and or configuration for output scenarios"
   ]
  },
  {
   "cell_type": "markdown",
   "metadata": {},
   "source": [
    "## **Random Walks**\n"
   ]
  },
  {
   "cell_type": "markdown",
   "metadata": {},
   "source": [
    "### *Scenarios:*\n",
    "1.\tConsequences in resident prices from COVID-19\n",
    "\n",
    "Prior to the pandemic, capital growth for Sydney alone was around 7.4%, meaning most properties had a good profit margin for most years. The changes in housing trends due to the virus has impacted the resident prices in most states around Australia negatively as shown in the graph below. Certain investors and home buyers are leaving the yet to be built property for several reasons around construction standards, as those who have already purchased these types of plans prior to the pandemic are currently having problems resolving complications around contract prices, with banks becoming more unwilling to lend on these types of properties (Yardney, 2020).\n"
   ]
  },
  {
   "cell_type": "markdown",
   "metadata": {},
   "source": [
    "![](resiPrices.png)"
   ]
  },
  {
   "cell_type": "markdown",
   "metadata": {},
   "source": [
    "(Yardney, 2020)"
   ]
  },
  {
   "cell_type": "markdown",
   "metadata": {},
   "source": [
    "2.\tResults of housing affordability and cost of living prior to COVID-19\n",
    " \n",
    "Due to COVID housing affordability burdens may differ depending on the circumstances of a household. Certain families may experience these changes in the markets where home tenets have climbed considerably such as Sydney and Melbourne. The cost of living expenses compared to income proportions have definitely increased from 2017 due to changes in housing prices becoming higher compared to the average everyday income earner shown in the table and graph below. Since the hit from the pandemic the stress on housing affordability and cost of living has affected the ways most people have saved or spent their money whether it is investing in property or paying off a mortgage. Australia as a nation acted accordingly in making sure certain solutions such as jobkeeper, will help those who have become unemployed with everyday expenses (Aussie, 2020)."
   ]
  },
  {
   "cell_type": "markdown",
   "metadata": {},
   "source": [
    "![](annualHouse.png)"
   ]
  },
  {
   "cell_type": "markdown",
   "metadata": {},
   "source": [
    "(Aussie, 2020)"
   ]
  },
  {
   "cell_type": "markdown",
   "metadata": {},
   "source": [
    "## **Markov Model**"
   ]
  },
  {
   "cell_type": "markdown",
   "metadata": {},
   "source": [
    "### *Scenarios:*"
   ]
  },
  {
   "cell_type": "markdown",
   "metadata": {},
   "source": [
    "1.Outcome of housing market before CoronaVirus \n",
    "\n",
    "Previously before the CoronaVirus, the trend of the housing market has generally been increasing over the past few decades in Australia seen in the graph below. This has been fuelled by infrastructure investment from the government and very low interest rates. The combination of these two factors along with several others has continued to drive this growth and overall GDP. The CoronaVirus has been a current obstacle that is being faced by the housing market as it will struggle to recover for quite some time. Without this pandemic the housing market would have continued to have strong growth however this growth was starting to become uncontrollable creating some negative impacts due to these soaring prices.         \n"
   ]
  },
  {
   "cell_type": "markdown",
   "metadata": {},
   "source": [
    "![](national_median_house_price.png)"
   ]
  },
  {
   "cell_type": "markdown",
   "metadata": {},
   "source": [
    "2.Outcome of housing market If the country was in lockdown \n",
    "\n",
    "\n",
    "The housing market would have had a very different effect if it wasn’t for the current outcomes and improvement of the coronavirus. The annual change and impact due to the coronavirus has seen the demand for houses fall dramatically by 6%, as seen in the graph below. While previously in 2019 a spike in prices can be seen but the market hasn’t fully recovered yet from this impact due to a time lag. Unfortunately if the country was still in a full lock down this would mean potential further negative growth of the housing market. This could create significant impacts to further overall GDP, inflation and employment issues within the economy. Luckily Australia has been fairly lucky with CoronaVirus compared to many other countries as preventative measures and solutions were implemented fairly early to reduce the potential impacts of the disease. \n"
   ]
  },
  {
   "cell_type": "markdown",
   "metadata": {},
   "source": [
    "![](priceIndex.png)"
   ]
  },
  {
   "cell_type": "markdown",
   "metadata": {},
   "source": [
    "### **Decision Tree**"
   ]
  },
  {
   "cell_type": "markdown",
   "metadata": {},
   "source": [
    "### *Scenario 1 - Worst Case Scenario*\n",
    "\n",
    "The topic of this project revolves around the impact of Covid-19 on the housing market in Australia, specifically NSW. The pandemic has caused widespread panic and unprecedented changes to the way that society and the economy functions. Growing cases of Covid-19 means that the government has provided stimulus packages to support Australians. These changes have meant that the cash rate has significantly decreased, while unemployment rates have skyrocketed. Furthermore, before the pandemic, house prices in NSW were growing, however the rate of growth has declined significantly. The greatest variable to contribute to the uncertainty of the entire housing market is the number of Covid-19 cases. Therefore the independent variable with the most impact to determine the worst case scenario would be the number of Covid-19 cases. Table 1 contains an alternative data set to configure the output scenario with the worst case possible (in this case, double the covid-19 cases, lower number of housing sales per week and higher unemployment rates)."
   ]
  },
  {
   "cell_type": "code",
   "execution_count": 59,
   "metadata": {},
   "outputs": [
    {
     "data": {
      "text/html": [
       "<div>\n",
       "<style scoped>\n",
       "    .dataframe tbody tr th:only-of-type {\n",
       "        vertical-align: middle;\n",
       "    }\n",
       "\n",
       "    .dataframe tbody tr th {\n",
       "        vertical-align: top;\n",
       "    }\n",
       "\n",
       "    .dataframe thead th {\n",
       "        text-align: right;\n",
       "    }\n",
       "</style>\n",
       "<table border=\"1\" class=\"dataframe\">\n",
       "  <thead>\n",
       "    <tr style=\"text-align: right;\">\n",
       "      <th></th>\n",
       "      <th>Week</th>\n",
       "      <th>Covid-19 Cases</th>\n",
       "      <th>Cash Rate</th>\n",
       "      <th>Unemployment Rate</th>\n",
       "      <th>Average Price</th>\n",
       "      <th>Total_Sales</th>\n",
       "    </tr>\n",
       "  </thead>\n",
       "  <tbody>\n",
       "    <tr>\n",
       "      <th>0</th>\n",
       "      <td>1</td>\n",
       "      <td>0</td>\n",
       "      <td>0.75</td>\n",
       "      <td>6.8</td>\n",
       "      <td>1051000</td>\n",
       "      <td>40</td>\n",
       "    </tr>\n",
       "    <tr>\n",
       "      <th>1</th>\n",
       "      <td>2</td>\n",
       "      <td>0</td>\n",
       "      <td>0.75</td>\n",
       "      <td>6.9</td>\n",
       "      <td>1051000</td>\n",
       "      <td>40</td>\n",
       "    </tr>\n",
       "    <tr>\n",
       "      <th>2</th>\n",
       "      <td>3</td>\n",
       "      <td>0</td>\n",
       "      <td>0.75</td>\n",
       "      <td>6.9</td>\n",
       "      <td>1051000</td>\n",
       "      <td>40</td>\n",
       "    </tr>\n",
       "    <tr>\n",
       "      <th>3</th>\n",
       "      <td>4</td>\n",
       "      <td>8</td>\n",
       "      <td>0.75</td>\n",
       "      <td>6.9</td>\n",
       "      <td>1051000</td>\n",
       "      <td>40</td>\n",
       "    </tr>\n",
       "    <tr>\n",
       "      <th>4</th>\n",
       "      <td>5</td>\n",
       "      <td>8</td>\n",
       "      <td>0.75</td>\n",
       "      <td>6.9</td>\n",
       "      <td>1100000</td>\n",
       "      <td>40</td>\n",
       "    </tr>\n",
       "  </tbody>\n",
       "</table>\n",
       "</div>"
      ],
      "text/plain": [
       "   Week  Covid-19 Cases  Cash Rate  Unemployment Rate  Average Price  \\\n",
       "0     1               0       0.75                6.8        1051000   \n",
       "1     2               0       0.75                6.9        1051000   \n",
       "2     3               0       0.75                6.9        1051000   \n",
       "3     4               8       0.75                6.9        1051000   \n",
       "4     5               8       0.75                6.9        1100000   \n",
       "\n",
       "    Total_Sales  \n",
       "0            40  \n",
       "1            40  \n",
       "2            40  \n",
       "3            40  \n",
       "4            40  "
      ]
     },
     "execution_count": 59,
     "metadata": {},
     "output_type": "execute_result"
    }
   ],
   "source": [
    "col_names = ['Week','Covid-19 Cases','Cash Rate','Unemployment Rate','Average Price','Total_Sales']\n",
    "# load dataset\n",
    "df = pd.read_csv(\"worstCaseScenario.csv\") \n",
    "df.head()"
   ]
  },
  {
   "cell_type": "code",
   "execution_count": 60,
   "metadata": {},
   "outputs": [],
   "source": [
    "#split dataset in features and target variable\n",
    "X = df[['Week','Covid-19 Cases','Cash Rate','Unemployment Rate','Average Price']] # Features"
   ]
  },
  {
   "cell_type": "code",
   "execution_count": 61,
   "metadata": {},
   "outputs": [
    {
     "data": {
      "text/plain": [
       "Index(['Week', 'Covid-19 Cases', 'Cash Rate', 'Unemployment Rate',\n",
       "       'Average Price'],\n",
       "      dtype='object')"
      ]
     },
     "execution_count": 61,
     "metadata": {},
     "output_type": "execute_result"
    }
   ],
   "source": [
    "# Create a list of feature column's names\n",
    "features = df.columns[:5]\n",
    "# View features\n",
    "features"
   ]
  },
  {
   "cell_type": "code",
   "execution_count": 62,
   "metadata": {},
   "outputs": [
    {
     "data": {
      "text/plain": [
       "(41, 5)"
      ]
     },
     "execution_count": 62,
     "metadata": {},
     "output_type": "execute_result"
    }
   ],
   "source": [
    "X.shape"
   ]
  },
  {
   "cell_type": "code",
   "execution_count": 63,
   "metadata": {},
   "outputs": [],
   "source": [
    "y = df[' Total_Sales'] # Target variable"
   ]
  },
  {
   "cell_type": "code",
   "execution_count": 64,
   "metadata": {},
   "outputs": [],
   "source": [
    "# Split dataset into training set and test set\n",
    "X_train, X_test, y_train, y_test = train_test_split(X, y, test_size=0.3, random_state=1) # 70% training and 30% test"
   ]
  },
  {
   "cell_type": "code",
   "execution_count": 67,
   "metadata": {},
   "outputs": [],
   "source": [
    "# Create Decision Tree classifer object\n",
    "clf = DecisionTreeClassifier()\n",
    "# Train Decision Tree Classifer\n",
    "clf = clf.fit(X_train,y_train)\n",
    "#Predict the response for test dataset\n",
    "y_pred = clf.predict(X_test)"
   ]
  },
  {
   "cell_type": "code",
   "execution_count": 68,
   "metadata": {},
   "outputs": [
    {
     "name": "stdout",
     "output_type": "stream",
     "text": [
      "Accuracy: 92.3076923076923\n"
     ]
    }
   ],
   "source": [
    "# Model Accuracy, how often is the classifier correct?\n",
    "print(\"Accuracy:\",metrics.accuracy_score(y_test, y_pred)*100)"
   ]
  },
  {
   "cell_type": "code",
   "execution_count": 69,
   "metadata": {},
   "outputs": [],
   "source": [
    "from sklearn import tree"
   ]
  },
  {
   "cell_type": "code",
   "execution_count": 70,
   "metadata": {},
   "outputs": [
    {
     "data": {
      "text/plain": [
       "[Text(152.1818181818182, 201.90857142857143, 'X[4] <= 1113500.0\\ngini = 0.837\\nsamples = 28\\nvalue = [3, 3, 4, 2, 7, 4, 5]'),\n",
       " Text(60.872727272727275, 170.84571428571428, 'X[0] <= 5.5\\ngini = 0.727\\nsamples = 16\\nvalue = [3, 3, 4, 0, 6, 0, 0]'),\n",
       " Text(30.436363636363637, 139.78285714285715, 'gini = 0.0\\nsamples = 3\\nvalue = [0, 3, 0, 0, 0, 0, 0]'),\n",
       " Text(91.30909090909091, 139.78285714285715, 'X[0] <= 8.5\\ngini = 0.639\\nsamples = 13\\nvalue = [3, 0, 4, 0, 6, 0, 0]'),\n",
       " Text(60.872727272727275, 108.72, 'gini = 0.0\\nsamples = 3\\nvalue = [0, 0, 3, 0, 0, 0, 0]'),\n",
       " Text(121.74545454545455, 108.72, 'X[4] <= 1050000.0\\ngini = 0.54\\nsamples = 10\\nvalue = [3, 0, 1, 0, 6, 0, 0]'),\n",
       " Text(91.30909090909091, 77.65714285714284, 'X[0] <= 39.0\\ngini = 0.56\\nsamples = 5\\nvalue = [3, 0, 1, 0, 1, 0, 0]'),\n",
       " Text(60.872727272727275, 46.59428571428572, 'gini = 0.0\\nsamples = 3\\nvalue = [3, 0, 0, 0, 0, 0, 0]'),\n",
       " Text(121.74545454545455, 46.59428571428572, 'X[1] <= 8209.0\\ngini = 0.5\\nsamples = 2\\nvalue = [0, 0, 1, 0, 1, 0, 0]'),\n",
       " Text(91.30909090909091, 15.531428571428563, 'gini = 0.0\\nsamples = 1\\nvalue = [0, 0, 1, 0, 0, 0, 0]'),\n",
       " Text(152.1818181818182, 15.531428571428563, 'gini = 0.0\\nsamples = 1\\nvalue = [0, 0, 0, 0, 1, 0, 0]'),\n",
       " Text(152.1818181818182, 77.65714285714284, 'gini = 0.0\\nsamples = 5\\nvalue = [0, 0, 0, 0, 5, 0, 0]'),\n",
       " Text(243.4909090909091, 170.84571428571428, 'X[0] <= 16.5\\ngini = 0.681\\nsamples = 12\\nvalue = [0, 0, 0, 2, 1, 4, 5]'),\n",
       " Text(213.05454545454546, 139.78285714285715, 'gini = 0.0\\nsamples = 4\\nvalue = [0, 0, 0, 0, 0, 4, 0]'),\n",
       " Text(273.92727272727274, 139.78285714285715, 'X[1] <= 7290.0\\ngini = 0.531\\nsamples = 8\\nvalue = [0, 0, 0, 2, 1, 0, 5]'),\n",
       " Text(243.4909090909091, 108.72, 'X[0] <= 23.5\\ngini = 0.278\\nsamples = 6\\nvalue = [0, 0, 0, 0, 1, 0, 5]'),\n",
       " Text(213.05454545454546, 77.65714285714284, 'gini = 0.0\\nsamples = 3\\nvalue = [0, 0, 0, 0, 0, 0, 3]'),\n",
       " Text(273.92727272727274, 77.65714285714284, 'X[1] <= 6474.0\\ngini = 0.444\\nsamples = 3\\nvalue = [0, 0, 0, 0, 1, 0, 2]'),\n",
       " Text(243.4909090909091, 46.59428571428572, 'gini = 0.0\\nsamples = 1\\nvalue = [0, 0, 0, 0, 1, 0, 0]'),\n",
       " Text(304.3636363636364, 46.59428571428572, 'gini = 0.0\\nsamples = 2\\nvalue = [0, 0, 0, 0, 0, 0, 2]'),\n",
       " Text(304.3636363636364, 108.72, 'gini = 0.0\\nsamples = 2\\nvalue = [0, 0, 0, 2, 0, 0, 0]')]"
      ]
     },
     "execution_count": 70,
     "metadata": {},
     "output_type": "execute_result"
    },
    {
     "data": {
      "image/png": "[encoded data removed]",
      "text/plain": [
       "<Figure size 432x288 with 1 Axes>"
      ]
     },
     "metadata": {
      "needs_background": "light"
     },
     "output_type": "display_data"
    }
   ],
   "source": [
    "tree.plot_tree(clf, filled=True) "
   ]
  },
  {
   "cell_type": "markdown",
   "metadata": {},
   "source": [
    "### *Scenario 2 - Best Case Scenario*\n",
    "\n",
    "Opposite to the worst case scenario with extreme Covid-19 cases is the best case scenario which is where there are no cases. This scenario would look much like it did in 2019 where the unemployment rate was at 5.3%, house prices were growing and the cash rate was fairly stable. Table 2 below represents these configurations and will be used to represent the best case scenario decision tree."
   ]
  },
  {
   "cell_type": "code",
   "execution_count": 99,
   "metadata": {},
   "outputs": [
    {
     "data": {
      "text/html": [
       "<div>\n",
       "<style scoped>\n",
       "    .dataframe tbody tr th:only-of-type {\n",
       "        vertical-align: middle;\n",
       "    }\n",
       "\n",
       "    .dataframe tbody tr th {\n",
       "        vertical-align: top;\n",
       "    }\n",
       "\n",
       "    .dataframe thead th {\n",
       "        text-align: right;\n",
       "    }\n",
       "</style>\n",
       "<table border=\"1\" class=\"dataframe\">\n",
       "  <thead>\n",
       "    <tr style=\"text-align: right;\">\n",
       "      <th></th>\n",
       "      <th>Week</th>\n",
       "      <th>Covid-19 Cases</th>\n",
       "      <th>Cash Rate</th>\n",
       "      <th>Unemployment Rate</th>\n",
       "      <th>Average Price</th>\n",
       "      <th>Total_Sales</th>\n",
       "    </tr>\n",
       "  </thead>\n",
       "  <tbody>\n",
       "    <tr>\n",
       "      <th>0</th>\n",
       "      <td>1</td>\n",
       "      <td>0</td>\n",
       "      <td>0.75</td>\n",
       "      <td>5.3</td>\n",
       "      <td>1051000</td>\n",
       "      <td>40</td>\n",
       "    </tr>\n",
       "    <tr>\n",
       "      <th>1</th>\n",
       "      <td>2</td>\n",
       "      <td>0</td>\n",
       "      <td>0.75</td>\n",
       "      <td>5.3</td>\n",
       "      <td>1051000</td>\n",
       "      <td>40</td>\n",
       "    </tr>\n",
       "    <tr>\n",
       "      <th>2</th>\n",
       "      <td>3</td>\n",
       "      <td>0</td>\n",
       "      <td>0.75</td>\n",
       "      <td>5.3</td>\n",
       "      <td>1051000</td>\n",
       "      <td>40</td>\n",
       "    </tr>\n",
       "    <tr>\n",
       "      <th>3</th>\n",
       "      <td>4</td>\n",
       "      <td>0</td>\n",
       "      <td>0.75</td>\n",
       "      <td>5.3</td>\n",
       "      <td>1051000</td>\n",
       "      <td>40</td>\n",
       "    </tr>\n",
       "    <tr>\n",
       "      <th>4</th>\n",
       "      <td>5</td>\n",
       "      <td>0</td>\n",
       "      <td>0.75</td>\n",
       "      <td>5.3</td>\n",
       "      <td>1100000</td>\n",
       "      <td>40</td>\n",
       "    </tr>\n",
       "  </tbody>\n",
       "</table>\n",
       "</div>"
      ],
      "text/plain": [
       "   Week  Covid-19 Cases  Cash Rate  Unemployment Rate  Average Price  \\\n",
       "0     1               0       0.75                5.3        1051000   \n",
       "1     2               0       0.75                5.3        1051000   \n",
       "2     3               0       0.75                5.3        1051000   \n",
       "3     4               0       0.75                5.3        1051000   \n",
       "4     5               0       0.75                5.3        1100000   \n",
       "\n",
       "   Total_Sales  \n",
       "0           40  \n",
       "1           40  \n",
       "2           40  \n",
       "3           40  \n",
       "4           40  "
      ]
     },
     "execution_count": 99,
     "metadata": {},
     "output_type": "execute_result"
    }
   ],
   "source": [
    "col_names = ['Week','Covid-19 Cases','Cash Rate','Unemployment Rate','Average Price','Total_Sales']\n",
    "# load dataset\n",
    "df = pd.read_csv(\"bestCaseScenario.csv\") \n",
    "df.head()"
   ]
  },
  {
   "cell_type": "code",
   "execution_count": 100,
   "metadata": {},
   "outputs": [],
   "source": [
    "#split dataset in features and target variable\n",
    "X = df[['Week','Covid-19 Cases','Cash Rate','Unemployment Rate','Average Price']] # Features"
   ]
  },
  {
   "cell_type": "code",
   "execution_count": 101,
   "metadata": {},
   "outputs": [
    {
     "data": {
      "text/plain": [
       "Index(['Week', 'Covid-19 Cases', 'Cash Rate', 'Unemployment Rate',\n",
       "       'Average Price'],\n",
       "      dtype='object')"
      ]
     },
     "execution_count": 101,
     "metadata": {},
     "output_type": "execute_result"
    }
   ],
   "source": [
    "# Create a list of feature column's names\n",
    "features = df.columns[:5]\n",
    "# View features\n",
    "features"
   ]
  },
  {
   "cell_type": "code",
   "execution_count": 102,
   "metadata": {},
   "outputs": [
    {
     "data": {
      "text/plain": [
       "(41, 5)"
      ]
     },
     "execution_count": 102,
     "metadata": {},
     "output_type": "execute_result"
    }
   ],
   "source": [
    "X.shape"
   ]
  },
  {
   "cell_type": "code",
   "execution_count": 103,
   "metadata": {},
   "outputs": [],
   "source": [
    "y = df['Total_Sales'] # Target variable"
   ]
  },
  {
   "cell_type": "code",
   "execution_count": 104,
   "metadata": {},
   "outputs": [],
   "source": [
    "# Split dataset into training set and test set\n",
    "X_train, X_test, y_train, y_test = train_test_split(X, y, test_size=0.3, random_state=1) # 70% training and 30% test"
   ]
  },
  {
   "cell_type": "code",
   "execution_count": 105,
   "metadata": {},
   "outputs": [],
   "source": [
    "# Create Decision Tree classifer object\n",
    "clf = DecisionTreeClassifier()\n",
    "# Train Decision Tree Classifer\n",
    "clf = clf.fit(X_train,y_train)\n",
    "#Predict the response for test dataset\n",
    "y_pred = clf.predict(X_test)"
   ]
  },
  {
   "cell_type": "code",
   "execution_count": 106,
   "metadata": {},
   "outputs": [
    {
     "name": "stdout",
     "output_type": "stream",
     "text": [
      "Accuracy: 92.3076923076923\n"
     ]
    }
   ],
   "source": [
    "# Model Accuracy, how often is the classifier correct?\n",
    "print(\"Accuracy:\",metrics.accuracy_score(y_test, y_pred)*100)"
   ]
  },
  {
   "cell_type": "code",
   "execution_count": 107,
   "metadata": {},
   "outputs": [],
   "source": [
    "from sklearn import tree"
   ]
  },
  {
   "cell_type": "code",
   "execution_count": 108,
   "metadata": {},
   "outputs": [
    {
     "data": {
      "text/plain": [
       "[Text(148.8, 201.90857142857143, 'X[4] <= 1113500.0\\ngini = 0.837\\nsamples = 28\\nvalue = [3, 3, 4, 2, 7, 4, 5]'),\n",
       " Text(74.4, 170.84571428571428, 'X[0] <= 5.5\\ngini = 0.727\\nsamples = 16\\nvalue = [3, 3, 4, 0, 6, 0, 0]'),\n",
       " Text(37.2, 139.78285714285715, 'gini = 0.0\\nsamples = 3\\nvalue = [0, 3, 0, 0, 0, 0, 0]'),\n",
       " Text(111.60000000000001, 139.78285714285715, 'X[2] <= 0.625\\ngini = 0.639\\nsamples = 13\\nvalue = [3, 0, 4, 0, 6, 0, 0]'),\n",
       " Text(74.4, 108.72, 'X[0] <= 30.5\\ngini = 0.54\\nsamples = 10\\nvalue = [3, 0, 1, 0, 6, 0, 0]'),\n",
       " Text(37.2, 77.65714285714284, 'gini = 0.0\\nsamples = 5\\nvalue = [0, 0, 0, 0, 5, 0, 0]'),\n",
       " Text(111.60000000000001, 77.65714285714284, 'X[0] <= 39.0\\ngini = 0.56\\nsamples = 5\\nvalue = [3, 0, 1, 0, 1, 0, 0]'),\n",
       " Text(74.4, 46.59428571428572, 'gini = 0.0\\nsamples = 3\\nvalue = [3, 0, 0, 0, 0, 0, 0]'),\n",
       " Text(148.8, 46.59428571428572, 'X[0] <= 40.5\\ngini = 0.5\\nsamples = 2\\nvalue = [0, 0, 1, 0, 1, 0, 0]'),\n",
       " Text(111.60000000000001, 15.531428571428563, 'gini = 0.0\\nsamples = 1\\nvalue = [0, 0, 1, 0, 0, 0, 0]'),\n",
       " Text(186.0, 15.531428571428563, 'gini = 0.0\\nsamples = 1\\nvalue = [0, 0, 0, 0, 1, 0, 0]'),\n",
       " Text(148.8, 108.72, 'gini = 0.0\\nsamples = 3\\nvalue = [0, 0, 3, 0, 0, 0, 0]'),\n",
       " Text(223.20000000000002, 170.84571428571428, 'X[0] <= 16.5\\ngini = 0.681\\nsamples = 12\\nvalue = [0, 0, 0, 2, 1, 4, 5]'),\n",
       " Text(186.0, 139.78285714285715, 'gini = 0.0\\nsamples = 4\\nvalue = [0, 0, 0, 0, 0, 4, 0]'),\n",
       " Text(260.40000000000003, 139.78285714285715, 'X[0] <= 31.0\\ngini = 0.531\\nsamples = 8\\nvalue = [0, 0, 0, 2, 1, 0, 5]'),\n",
       " Text(223.20000000000002, 108.72, 'X[0] <= 23.5\\ngini = 0.278\\nsamples = 6\\nvalue = [0, 0, 0, 0, 1, 0, 5]'),\n",
       " Text(186.0, 77.65714285714284, 'gini = 0.0\\nsamples = 3\\nvalue = [0, 0, 0, 0, 0, 0, 3]'),\n",
       " Text(260.40000000000003, 77.65714285714284, 'X[0] <= 26.5\\ngini = 0.444\\nsamples = 3\\nvalue = [0, 0, 0, 0, 1, 0, 2]'),\n",
       " Text(223.20000000000002, 46.59428571428572, 'gini = 0.0\\nsamples = 1\\nvalue = [0, 0, 0, 0, 1, 0, 0]'),\n",
       " Text(297.6, 46.59428571428572, 'gini = 0.0\\nsamples = 2\\nvalue = [0, 0, 0, 0, 0, 0, 2]'),\n",
       " Text(297.6, 108.72, 'gini = 0.0\\nsamples = 2\\nvalue = [0, 0, 0, 2, 0, 0, 0]')]"
      ]
     },
     "execution_count": 108,
     "metadata": {},
     "output_type": "execute_result"
    },
    {
     "data": {
      "image/png": "[encoded data removed]",
      "text/plain": [
       "<Figure size 432x288 with 1 Axes>"
      ]
     },
     "metadata": {
      "needs_background": "light"
     },
     "output_type": "display_data"
    }
   ],
   "source": [
    "tree.plot_tree(clf, filled=True) "
   ]
  },
  {
   "cell_type": "markdown",
   "metadata": {},
   "source": [
    "## Perform a basic sensitivity analysis, i.e., identify which parameters are most sensitive/insensitive for the outputs"
   ]
  },
  {
   "cell_type": "markdown",
   "metadata": {},
   "source": [
    "## **Random Walk**"
   ]
  },
  {
   "cell_type": "markdown",
   "metadata": {},
   "source": [
    "A sensitivity analysis reflects the fundamental properties of the changing parameters of a model based on the outputs and impacts of different internal and external environmental factors (Kenton & Kindness, 2020). From the project question around COVID-19 and the property market, the random walks model demonstrates the sensitivity analysis outcomes that have an effect on the housing market due to the Coronavirus are:\n",
    "-   \tUnemployment\n",
    "-   \tGDP growth (growth rate)\n",
    "-   \tIncome\n",
    "\n",
    "The table below shows the changes in employment status per state, whereas, the graph portrays a correlation between the unemployment rate and housing market performance which has declined. As the unemployment rate for the nation has reached a new record high compared to previous years, the monthly difference in housing costs has also changed in a negative way (CoreLogic, 2020). Despite the fluctuations in cash rate and the RBA data implying a new average mortgage rate, the biggest impact from COVID-19 on the real estate market in 2020 can be related to the high unemployment rate which equals a lower expected future income that results in a lower demand for housing sales. The lack of demand in the housing market means various sellers are withdrawing properties from the market (Hamed, 2020)."
   ]
  },
  {
   "cell_type": "markdown",
   "metadata": {},
   "source": [
    "![](states.png)"
   ]
  },
  {
   "cell_type": "markdown",
   "metadata": {},
   "source": [
    "(Australian Bureau of Statistics, 2020)"
   ]
  },
  {
   "cell_type": "markdown",
   "metadata": {},
   "source": [
    "![](unemployment.png)"
   ]
  },
  {
   "cell_type": "markdown",
   "metadata": {},
   "source": [
    "(CoreLogic, 2020)"
   ]
  },
  {
   "cell_type": "markdown",
   "metadata": {},
   "source": [
    "## **Markov Model**"
   ]
  },
  {
   "cell_type": "markdown",
   "metadata": {},
   "source": [
    "A sensitivity analysis demonstrates how the uncertainty in an output of a mathematical model or system can be split and influenced by different uncertainties. The Markov model presents two sensitivity analysis situations that can be further looked into their effects on Coronavirus in the housing market. \n",
    "\n",
    "**GDP Growth vs. Cash rate analysis**\n",
    "\n",
    "This table looks at how gdp growth is influenced by the cash rate which is very important as it affects Coronavirus in the housing market. The cash rate or interest rate is the cost of borrowing for individuals when purchasing a house, as it is very unlikely for people to have enough money upfront to buy a house. This means the lower the cash rate the cheaper it is to borrow money, and this should encourage or incentivise individuals to borrow more. GDP is the gross domestic product for the  Australian economy and this is fuelled by consumers spending and saving. The higher the GDP growth the more consumer confidence and therefore encouragement of spending and buying houses.\n"
   ]
  },
  {
   "cell_type": "markdown",
   "metadata": {},
   "source": [
    "![](table1.png)"
   ]
  },
  {
   "cell_type": "markdown",
   "metadata": {},
   "source": [
    "This table below shows the amount of money produced from the number of houses sold. The average house price in Australia is \\\\$809,349 and the average number sold is 442,000 a year. By increasing and decreasing these factors this monetary impact can be seen in the table.\n"
   ]
  },
  {
   "cell_type": "markdown",
   "metadata": {},
   "source": [
    "![](table2.png)"
   ]
  },
  {
   "cell_type": "markdown",
   "metadata": {},
   "source": [
    "## **Decision Tree**"
   ]
  },
  {
   "cell_type": "markdown",
   "metadata": {},
   "source": [
    "There are a number of parameters for a Decision Tree, specifically the sklearn.tree.DecisionTreeClassifier that has been used in the above decision tree model. The specific parameters used include:\n",
    "* criterion : gini \n",
    "\n",
    "The purpose of gini is to measure the quality of the split and how pure it is. A gini of 0 means that there is more than one class within the node. \n",
    "\n",
    "* splitter : random\n",
    "\n",
    "The splitter method refers to the strategy utilised to determine how the split occurs at each node. \"Random\" chooses the best split at random. \n",
    "\n",
    "* max_depth : default = none\n",
    "\n",
    "This parameter determins the maximum depth of the tree. As the default is set to \"None\", the nodes then continue until all leaves are pure (gini = 0). \n",
    "\n",
    "* test vs train percentage\n",
    "\n",
    "In a dataset the point of a test and training set is to fit and test a model. More specifically, the training set is used to build a model, while the test (validation) set is used to validate the model or test it. Data from the training set is always excluded from the test set. One of the benefits of splitting data into a test and train set is that it minimises the risk of overtraining where the calculations fit the code for one situation, but not for others. \n",
    "\n",
    "By changing the parameters such as the splitter and max_depth, the overall output of the decision tree will change. Furthermore, altering the train and test ratio will also alter the accuracy of the model.\n",
    "\n",
    "The baseline model with the current data set will be used to demonstrate and compare the impact that specific parameters have on the model. \n",
    "\n",
    "For this sensitivity analysis the following parameters will change:\n",
    "\n",
    "* random state = 0\n",
    "\n",
    "* max_depth = 3\n",
    "\n",
    "* test vs train percentage (0.1)"
   ]
  },
  {
   "cell_type": "code",
   "execution_count": 109,
   "metadata": {},
   "outputs": [
    {
     "data": {
      "text/html": [
       "<div>\n",
       "<style scoped>\n",
       "    .dataframe tbody tr th:only-of-type {\n",
       "        vertical-align: middle;\n",
       "    }\n",
       "\n",
       "    .dataframe tbody tr th {\n",
       "        vertical-align: top;\n",
       "    }\n",
       "\n",
       "    .dataframe thead th {\n",
       "        text-align: right;\n",
       "    }\n",
       "</style>\n",
       "<table border=\"1\" class=\"dataframe\">\n",
       "  <thead>\n",
       "    <tr style=\"text-align: right;\">\n",
       "      <th></th>\n",
       "      <th>Week</th>\n",
       "      <th>Covid-19 Cases</th>\n",
       "      <th>Cash Rate</th>\n",
       "      <th>Unemployment Rate</th>\n",
       "      <th>Average Price</th>\n",
       "      <th>Total_Sales</th>\n",
       "    </tr>\n",
       "  </thead>\n",
       "  <tbody>\n",
       "    <tr>\n",
       "      <th>0</th>\n",
       "      <td>1</td>\n",
       "      <td>0</td>\n",
       "      <td>0.75</td>\n",
       "      <td>5.3</td>\n",
       "      <td>1051000</td>\n",
       "      <td>48</td>\n",
       "    </tr>\n",
       "    <tr>\n",
       "      <th>1</th>\n",
       "      <td>2</td>\n",
       "      <td>0</td>\n",
       "      <td>0.75</td>\n",
       "      <td>5.3</td>\n",
       "      <td>1051000</td>\n",
       "      <td>48</td>\n",
       "    </tr>\n",
       "    <tr>\n",
       "      <th>2</th>\n",
       "      <td>3</td>\n",
       "      <td>0</td>\n",
       "      <td>0.75</td>\n",
       "      <td>5.3</td>\n",
       "      <td>1051000</td>\n",
       "      <td>48</td>\n",
       "    </tr>\n",
       "    <tr>\n",
       "      <th>3</th>\n",
       "      <td>4</td>\n",
       "      <td>4</td>\n",
       "      <td>0.75</td>\n",
       "      <td>5.3</td>\n",
       "      <td>1051000</td>\n",
       "      <td>48</td>\n",
       "    </tr>\n",
       "    <tr>\n",
       "      <th>4</th>\n",
       "      <td>5</td>\n",
       "      <td>4</td>\n",
       "      <td>0.75</td>\n",
       "      <td>5.1</td>\n",
       "      <td>1100000</td>\n",
       "      <td>49</td>\n",
       "    </tr>\n",
       "  </tbody>\n",
       "</table>\n",
       "</div>"
      ],
      "text/plain": [
       "   Week  Covid-19 Cases  Cash Rate  Unemployment Rate  Average Price  \\\n",
       "0     1               0       0.75                5.3        1051000   \n",
       "1     2               0       0.75                5.3        1051000   \n",
       "2     3               0       0.75                5.3        1051000   \n",
       "3     4               4       0.75                5.3        1051000   \n",
       "4     5               4       0.75                5.1        1100000   \n",
       "\n",
       "   Total_Sales  \n",
       "0           48  \n",
       "1           48  \n",
       "2           48  \n",
       "3           48  \n",
       "4           49  "
      ]
     },
     "execution_count": 109,
     "metadata": {},
     "output_type": "execute_result"
    }
   ],
   "source": [
    "col_names = ['Week','Covid-19 Cases','Cash Rate','Unemployment Rate','Average Price','Total_Sales']\n",
    "# load dataset\n",
    "df = pd.read_csv(\"new-decision-tree-data3.csv\") \n",
    "df.head()"
   ]
  },
  {
   "cell_type": "code",
   "execution_count": 110,
   "metadata": {},
   "outputs": [],
   "source": [
    "#split dataset in features and target variable\n",
    "X = df[['Week','Covid-19 Cases','Cash Rate','Unemployment Rate','Average Price']] # Features"
   ]
  },
  {
   "cell_type": "code",
   "execution_count": 111,
   "metadata": {},
   "outputs": [
    {
     "data": {
      "text/plain": [
       "Index(['Week', 'Covid-19 Cases', 'Cash Rate', 'Unemployment Rate',\n",
       "       'Average Price'],\n",
       "      dtype='object')"
      ]
     },
     "execution_count": 111,
     "metadata": {},
     "output_type": "execute_result"
    }
   ],
   "source": [
    "# Create a list of feature column's names\n",
    "features = df.columns[:5]\n",
    "# View features\n",
    "features"
   ]
  },
  {
   "cell_type": "code",
   "execution_count": 112,
   "metadata": {},
   "outputs": [
    {
     "data": {
      "text/plain": [
       "(41, 5)"
      ]
     },
     "execution_count": 112,
     "metadata": {},
     "output_type": "execute_result"
    }
   ],
   "source": [
    "X.shape"
   ]
  },
  {
   "cell_type": "code",
   "execution_count": 113,
   "metadata": {},
   "outputs": [],
   "source": [
    "y = df['Total_Sales'] # Target variable"
   ]
  },
  {
   "cell_type": "code",
   "execution_count": 114,
   "metadata": {},
   "outputs": [],
   "source": [
    "# Split dataset into training set and test set\n",
    "X_train, X_test, y_train, y_test = train_test_split(X, y, test_size=0.1, random_state=0) # 90% training and 10% test"
   ]
  },
  {
   "cell_type": "code",
   "execution_count": 115,
   "metadata": {},
   "outputs": [],
   "source": [
    "# Create Decision Tree classifer object\n",
    "clf = DecisionTreeClassifier(max_depth = 3)\n",
    "# Train Decision Tree Classifer\n",
    "clf = clf.fit(X_train,y_train)\n",
    "#Predict the response for test dataset\n",
    "y_pred = clf.predict(X_test)"
   ]
  },
  {
   "cell_type": "code",
   "execution_count": 116,
   "metadata": {},
   "outputs": [
    {
     "name": "stdout",
     "output_type": "stream",
     "text": [
      "Accuracy: 60.0\n"
     ]
    }
   ],
   "source": [
    "# Model Accuracy, how often is the classifier correct?\n",
    "print(\"Accuracy:\",metrics.accuracy_score(y_test, y_pred)*100)"
   ]
  },
  {
   "cell_type": "code",
   "execution_count": 117,
   "metadata": {},
   "outputs": [],
   "source": [
    "from sklearn import tree"
   ]
  },
  {
   "cell_type": "code",
   "execution_count": 118,
   "metadata": {},
   "outputs": [
    {
     "data": {
      "text/plain": [
       "[Text(125.55000000000001, 190.26, 'X[4] <= 1025500.0\\ngini = 0.841\\nsamples = 36\\nvalue = [6, 4, 4, 7, 8, 3, 4]'),\n",
       " Text(83.7, 135.9, 'gini = 0.0\\nsamples = 6\\nvalue = [6, 0, 0, 0, 0, 0, 0]'),\n",
       " Text(167.4, 135.9, 'X[0] <= 16.5\\ngini = 0.811\\nsamples = 30\\nvalue = [0, 4, 4, 7, 8, 3, 4]'),\n",
       " Text(83.7, 81.53999999999999, 'X[4] <= 1075500.0\\ngini = 0.622\\nsamples = 14\\nvalue = [0, 0, 4, 7, 0, 3, 0]'),\n",
       " Text(41.85, 27.180000000000007, 'gini = 0.0\\nsamples = 4\\nvalue = [0, 0, 4, 0, 0, 0, 0]'),\n",
       " Text(125.55000000000001, 27.180000000000007, 'gini = 0.42\\nsamples = 10\\nvalue = [0, 0, 0, 7, 0, 3, 0]'),\n",
       " Text(251.10000000000002, 81.53999999999999, 'X[1] <= 3545.5\\ngini = 0.625\\nsamples = 16\\nvalue = [0, 4, 0, 0, 8, 0, 4]'),\n",
       " Text(209.25, 27.180000000000007, 'gini = 0.444\\nsamples = 12\\nvalue = [0, 0, 0, 0, 8, 0, 4]'),\n",
       " Text(292.95, 27.180000000000007, 'gini = 0.0\\nsamples = 4\\nvalue = [0, 4, 0, 0, 0, 0, 0]')]"
      ]
     },
     "execution_count": 118,
     "metadata": {},
     "output_type": "execute_result"
    },
    {
     "data": {
      "image/png": "[encoded data removed]",
      "text/plain": [
       "<Figure size 432x288 with 1 Axes>"
      ]
     },
     "metadata": {
      "needs_background": "light"
     },
     "output_type": "display_data"
    }
   ],
   "source": [
    "tree.plot_tree(clf, filled=True) "
   ]
  },
  {
   "cell_type": "markdown",
   "metadata": {},
   "source": [
    "The above decision tree makes it evident that by changing parameters, the overall structure and output can change greatly. Decision trees are relatively unstable models that have the potential to change significantly when parameters and data sets are altered. In this situation, by reducing the depth of the tree to three levels, the gini index for many leaf nodes could not reach zero. Furthermore, the random state was set to one, meaning that no random splits could be made each time the code was run. Finally, the test vs train percentage was changed to 90% training and 10% validating, which greatly reduced the accuracy of the model to 60%.  This sensitivity analysis demonstrates to what extent the outcome can change based upon changes made to a single variable or parameter. "
   ]
  },
  {
   "cell_type": "markdown",
   "metadata": {
    "toc-hr-collapsed": false
   },
   "source": [
    "# **Proposed solutions**"
   ]
  },
  {
   "cell_type": "markdown",
   "metadata": {},
   "source": [
    "## Discuss potential portfolio of solutions based on your previous analysis\n"
   ]
  },
  {
   "cell_type": "markdown",
   "metadata": {},
   "source": [
    "## **Random Walks**"
   ]
  },
  {
   "cell_type": "markdown",
   "metadata": {},
   "source": [
    "A random walks model is a numerical ideal where a number of variables follow no noticeable trends and each movement is completely at random. This model has been used since the 1900’s and is considered one of the first models used to analyse the stock market or stock prices. However, while using a walking sequence of uncertainty and irregular steps, the difference between each phase has no sense or purpose in flow, making this model highly impulsive in identifying typical behaviors in different circumstances. Although this model is impulsive the predictions of any future value will eventually equal the last detected worth (CFI, 2020).\n",
    "\n",
    "The model is commonly used within the financial sector as the flow of data represents most price datasets such as the stock and housing markets. In the table below are some of the pros and cons of using a random walks model when used to compare or identify certain aspects of a topic area, for this project the model was used to see whether the housing prices in Australian states were affected by the pandemic."
   ]
  },
  {
   "cell_type": "markdown",
   "metadata": {},
   "source": [
    "| Pros    | Cons |\n",
    "| ----------- | ----------- |\n",
    "|Easy to use|Inadequate when the worst-case scenario is implemented|\n",
    "|Able to adapt swiftly when minor alterations are made | Does not maintain the mean point of the free space available|\n",
    "|By using numerous walks, the time sequence can be reduced|Calculated results would become noisy due to the statistical faults/errors|\n",
    "|Capable in handling different courses from simple or complex limitations|Statistical faults can be covered by the effects of different controlled parameters|\n",
    "\n",
    "\n",
    "\n",
    "\n",
    "\n"
   ]
  },
  {
   "cell_type": "markdown",
   "metadata": {},
   "source": [
    "(Subramaniam, n.d)\n",
    "\n",
    "Since the Coronavirus the Australian economy has changed and shifted in different directions over the months, however, in certain parts of Australia the housing prices have either shifted downwards or remained somewhat the same. Due to COVID-19 the rise in unemployment, falling consumer expenditure, a potential recession, restrictions/limitations in the housing markets as well as cautious lending by most banks, will definitely affect the property markets moving forward as buy or selling estate will become more and more difficult for individuals (Yardney, 2020).\n",
    "\n",
    "The short-term effects on the housing market would be around the different types of investment property. The properties which are above average may fall in worth by around 5%, whereas, the average to less than flawless homes could fall below 10% or more based on the quality of the house. On the other hand, investors with a stable financial position during this period may see this as an opportunity and take advantage of the low interest rates, thus supporting the comeback of a stronger growth for the medium to long term effects on the property market (Yardney, 2020).\n",
    "\n",
    "The long-term effects from COVID-19 may affect areas in housing supply, interest rates and size of households. Declining housing supplies have affected new large projects being established as most people are considering the time and cost involved to build and develop new homes, apartments or complexes due to the restrictions and materials needed for construction. In conjunction to this, smaller households will eventually become the new norm as factors such as income stability will affect growing families when it comes to buying a bigger land, on the other hand, low interest rates have made it slightly easier for those who wish to own a home or looking into investment (Yardney, 2020)."
   ]
  },
  {
   "cell_type": "markdown",
   "metadata": {},
   "source": [
    "## **Markov Model**"
   ]
  },
  {
   "cell_type": "markdown",
   "metadata": {},
   "source": [
    "## Pros\n",
    "\n",
    "The Markov model has been around since the early 1900’s and has been used and applied to many different situations. This allows it to be a well rounded, researched and trialled model as it contains very specific algorithms that are exact and appropriate. This makes it a very reliable information source that represents the power demands of each situation through probability distributions. Through these distributions this gives good estimates to easily estimate conditional probability based on a current state.\n",
    "\n",
    "* Can be used to model a large number of applications\n",
    "* Best for temporal/sequence of data e.g weather, economic data, language, music\n",
    "* It is a simple and accurate tool for forecasting and making predictions\n",
    "\n",
    "House prices often take longer to reflect on the economy due to the fact that houses are harder to buy and sell than stocks for example. This means that house prices are more predictable as the impact of stock prices can help predict the future of house prices for the next couple of months. The Australian property market is yet to see the full-scale impact of COVID-19 however what is certain is the Australian government has acted out of the best interest of the community. The government is delivering a \\\\$17.6 billion economic support package which has kept many Australians in the workforce and helped keep businesses in operation. The support from the government has been exponential and the package is inclusive of:\n",
    "\n",
    "* JobKeeper\n",
    "* Income support payments (JobSeeker)\n",
    "* HomeBuilder\n",
    "* Coronavirus SME Guarantee Scheme\n",
    "\n",
    "From July 2021, the government announced the extensions of the JobKeeper payment for an additional six months which is supporting many workers and businesses. The JobKeeper payment review report was conducted over May and June 2020 by the Treasury Coronavirus Business Liaison Unit to gain insights and to demonstrate the impact of the coverage of the payment. Secondly, the HomeBuilder program grants first home buyers will receive a tax-free $25,000 grant to build or substantially renovate an existing residential property. This will help the residential construction market by encouraging new homes to be built and renovated resulting in more labour needed providing jobs for the economy.\n",
    "\n",
    "## Cons\n",
    "\n",
    "However, the Markov model doesn’t include all the factors for an event meaning that it can be fairly inaccurate due to the large number of unstructured features. Giving a rather basic understanding of an event or model as it is not very useful for properly explaining events. Similarly this model doesn’t express dependencies on hidden states, which can be a very important factor for some scenarios. The Household, Income, Labour Dynamics in Australia (HILDA) Survey is a house-hold based study that collects information about the relationships, income, employment, health and education of individuals in the study. The latest information from this study is from 2017 so it is limited, however, in the coming years when the data is available it will be much easier to see the effects of COVID-19. National Australia Bank’s (NAB) chief economist Alan Oster mentions that his July predictions of 10-15% decline in national property prices have remained unchanged. The Reserve Bank of Australia has modelled for a 40% drop in house prices and the Commonwealth Bank of Australia is expecting another 10%-12% drop (Razaghi, 2020).\n",
    "\n",
    "## Comparison of Random walks model and Markov model\n",
    "\n",
    "The random walks model has a value at the time, then it assumes that the variable takes a random step from its previous value. A notable theory of random walks was developed for defining a pagerank system on the internet at the same time the Markovian chain had also been developed for a similar use (\"Random Walks and Markov Chains\", 2020). These two models are often used interchangeably as seen on the table below both have similarities (\"Random Walks and Markov Chains\", 2020). A Markov chain has a finite set of states in which there is a transitional probability for one state to get to another state. The markov chain can be represented in a directed graph with nodes that shows each state and the movement between the states whereas the random walks model is usually best depicted on a grid graph. \n",
    "\n",
    "| Random Walk     | Markov Chain |\n",
    "| ----------- | ----------- |\n",
    "| Graph     | Stochastic process      |\n",
    "| Vertex  | State       |\n",
    "|Strongly connected and aperiodic | Persistent|\n",
    "|Undirected graph | Aperiodic |\n",
    "|     | Time reversible |\n",
    "\n",
    "CS edu (2020)\n",
    "\n",
    "\n",
    "A key example of why the stock market is a random walk would be because stock either goes up or down in value given the information about its performance tomorrow. Although tomorrow's news is unknown the resulting price changes must be unpredictable which follows a random walk model. For example the effects of October’s stock market or housing prices can increase or decrease due to the fluctuation of stocks or houses built over the past few months pre COVID-19."
   ]
  },
  {
   "cell_type": "markdown",
   "metadata": {},
   "source": [
    "## **Decision Tree**"
   ]
  },
  {
   "cell_type": "markdown",
   "metadata": {},
   "source": [
    "## Pros\n",
    "\n",
    "Decision trees are an extremely intuitive and easy to understand model which have been developed to assist people in making decisions. The visual representation of decisions, allow people to come up with a strategic decision to reach a particular target goal. It closely mimics the human decision making process, thus making it one of the best models for a quick and fast inference regarding a problem. The decision tree can work with both numerical and categorical features which makes it very useful for a variety of data and data types. The model was selected as a means of assisting people in NSW to make decisions regarding the property market while keeping in mind the impact of the global Pandemic, Covid-19. By collating data from a range of reliable sources about the cash rate, number of cases, average house prices and unemployment rate since the first covid-19 case was reported in January, the tree was able to be trained to split and classify the data accordingly. The accuracy of the model was relatively high at 92.3%. Therefore people could use the model to decide whether it would be wise to enter into the property market at this time.\n",
    "\n",
    "## Cons\n",
    "\n",
    "Although decisions trees are successful at quickly showing the sequential flow of data which has been split accordingly to assist people in making decisions. They are fairly unstable as the slightest change in data can significantly impact the structure of the decision tree. This makes frequent data updates and re-training of the model significantly more difficult and time consuming as specific variables and features must be trained accordingly. Therefore the decision tree would not do well with continually changing circumstances and data, similar to the Covid-19 pandemic with new data about case numbers emerging daily. Updating the decision tree on a frequent basis would generate a far more complex algorithm that would require more time to train the model. A bigger data set would mean that the data would take longer to become pure (gini = 0). In this case, people would be dealing with extremely large decision trees that would be too difficult to follow and therefore ruin the original quick and easy nature of understanding the model. In order to combat this complexity, parameters such as tree depth and pruning code would need to be implemented. Each time extra data was added, these parameters would need to be updated and therefore the entire tree would need to be retrained. Overall, the decision tree is not a very good model when dealing with large sets of data that are frequently updated and changed, as the time needed to create an accurate model will greatly increase. "
   ]
  },
  {
   "cell_type": "markdown",
   "metadata": {
    "toc-hr-collapsed": false
   },
   "source": [
    "# **Reflection on group + individual approach to assignment**"
   ]
  },
  {
   "cell_type": "markdown",
   "metadata": {},
   "source": [
    "## Taylor Liew "
   ]
  },
  {
   "cell_type": "markdown",
   "metadata": {},
   "source": [
    "**Your contribution in the project**\n",
    "\n",
    "My contribution to this project for the draft was particularly focused on the beginning sections of the document. This included the introduction for our group's chosen topic of Corona Virus affecting the housing market. Here it was important to state and detail the problem that was being faced as well as its importance and relevance to us as individuals and the rest of society. I split this section into key paragraphs to include relevant data while also looking at both short- and long-term effects for society and individuals.\n",
    "\n",
    "The next section I looked at was the context and background justification which I found particularly interesting to research. As I am also studying business this information was easier for me to understand and very relevant for today's society. In particular how the government is handling this situation by lowering the cash rate that’s decided by the RBA’s monetary cash rate targeting. By also looking at other models and predictions this gave different perspectives about how to tackle this issue and a range of solutions. Ultimately aiming to recover the economy in the most appropriate way as the Corona Virus has affected it.\n",
    "\n",
    "System and stakeholders was also another section that I completed along with a rich picture. I did some research into rich pictures as I had never made one before, but I found it very helpful as a visual representation and learning resource. Through identifying a complex system and several different stakeholders this could be represented in a rich picture capturing the important elements and perspectives of the cycle.\n",
    "\n",
    "Sabi and I also worked on the proposal of the Markov model as one of the solutions that can be used to help fix this problem. After receiving feedback, we made some changes to carryout for the implementation, scenario analysis and pros/cons for the model and the final submission. \n",
    "\n",
    "**Other group members’ contributions**\n",
    "\n",
    "Sabi - identify current models, discuss prevailing models preventing the problem from being solved, helping with Markov models \n",
    "Shino- Decision trees\n",
    "Alliyah- random walks \n",
    "\n",
    "**What positives do you take from this project? What did you learn from this project?**\n",
    "\n",
    "There were several positive takeaways from this project that came through this learning experience. By choosing Coronavirus in the housing market it was very interesting to investigate and learn about a relevant topic in today's society. Through learning about the economy and interaction of society this could be further applied to different models that each team member investigated.\n",
    "\n",
    "Like most group projects, another positive was the learning experience of teamwork and working with different people. In university we are exposed to many different types of people which allows for a range of ideas, opinions and experiences. This helps to create a high level of work that has been well thought out and discussed, rather than just from my personal opinion and experience. I also learnt more about working with different people by using new communication platforms and software's to complete this assignment.\n",
    "\n",
    "The content of this subject and assignment was also very interesting through the application and relevance of different theories and models. I didn't know about the theory of Markov models, decision trees and random walks which can easily be applied in today's society. This gave me another perspective about different aspects of society and alternative solutions to help fix the current issue of Corona Virus in the housing market. \n",
    "\n",
    "**What challenges did you face in this project and how you overcame those?**\n",
    "\n",
    "Like many group projects there are always some challenges that are faced, which require strategies to overcome. In particular there were many different requirements of the group project that were hard to understand and interpret. This was particularly because the specifications on the group assignment weren't in a lot of detail, rather just headings that we had to put information and research under. To properly understand the requirements of this assignment, our group clarified and asked Juan in a group call. This helped us to be on track and be able to organise different parts of the assignment.\n",
    "\n",
    "Similarly, there was some difficulty understanding the content in particular using Python and Github as these were both unfamiliar software's to all group members. The workshop during class as well as external videos looked at how to post repositories and work out the basic parts of Github for the team. However, with both Python and anaconda this was much harder, as one of our team members had to have a lengthy call with Juan to understand how to properly use this software. With time and playing around these programs eventually we figured out how to use them for the final assessment. \n",
    "\n",
    "Teamwork wasn't too difficult, but it was hard to organise with some group members splitting parts and organising times to call and discuss the assignment. This is because everyone has other priorities and busy lives meaning we were only able to meet after tutorials as everyone was available then. It was much harder to coordinate regular check-ins and discussions, but as long as everyone had completed their sections for the week this was able to run smoothly. \n",
    "\n",
    "**If you are faced with dealing with a real-world problem and need to do some modelling, how would you determine which modelling approach to take. Justify your response.**\n",
    "\n",
    "To determine the most appropriate model for a real-world situation there are many different approaches which can be taken. It is important to properly understand the requirements and aims for the model to find the most appropriate solution. Researching current models for this situation would create a better understanding to observe what is and isn’t working. This could result in modifying some elements to the current model to make it more adaptive to the problem or potentially scratching it all together and starting a new one. Based on the models that we have learnt it would be beneficial to create an index or summary of each one to be able to apply this easily to current problems. As this would give a birds eye view and insight into which approach would be the most appropriate model to help this problem. "
   ]
  },
  {
   "cell_type": "markdown",
   "metadata": {},
   "source": [
    "## Shino Takesako "
   ]
  },
  {
   "cell_type": "markdown",
   "metadata": {},
   "source": [
    "**Your contribution in the project**\n",
    "\n",
    "Upon reflection of the entire assignment, I had various roles that required communicating between members, collating everyone's work and completing my own components. As group leader, I had the responsibility of setting up Jupyter Lab and connecting it to the Github repository. This process involved learning a great deal about how to install and operate Jupyter Lab through the Terminal on my Mac laptop and finding out how to navigate the interface of Jupyter Lab. For each assignment submission I had to copy the text written by each group member for their part and paste it into the Jupyter Notebook, while editing it and ensuring that the appropriate markdown syntax was used. I also had to communicate with Juan on behalf of the group in order to get feedback and then relay it to my team members. The individual component that I was in charge of included the decision tree model which required researching python code for ML decision trees. Data was also needed to formulate the decision tree, therefore I had to spend time searching for reliable sources to extract data on the unemployment rates, Covid-19 case numbers, average house prices and cash rate since the beginning of the year. Finally, I had to write the final concluding analysis for the assignment, insert each group member's individual reflections and edit it all one last time before submitting it. It was also important that throughout the entire assignment, I regularly communicated when deadlines were approaching and facilitated times to communicate as a group.\n",
    "\n",
    "**Other group members’ contributions**\n",
    "\n",
    "All group parts were split up during an audio call, ensuring that all members were happy with the work that they had to do. Taylor’s contribution included researching the background information and writing part of the Markov model. Sabi and Taylor worked together on the Markov model, splitting the work between themselves. Alfiyyah was in charge of the entire random walks model. If there was any confusion we would communicate within the group chat and help each other out. We all worked very diligently on our own parts and had no trouble working together as a team. \n",
    "\n",
    "**What positives do you take from this project? What did you learn from this project?**\n",
    "\n",
    "The project was extremely interesting as it involved applying what we had learnt during the lectures to a specific problem decided by the team. It was a very positive thing to let groups choose a topic that interested them as my team decided to do Covid-19 and the impact that it is having on the housing market. Researching such a current event made it an engaging and relevant assignment. It made it clear that we could use the many models thinking approach for all sorts of issues and that it was a practical and realistic approach to modelling. The assignment gave me an opportunity to learn about the housing market and pay attention to the current crisis from the perspective of unemployment, cash rate and housing prices. Furthermore, this project was a huge learning curve in terms of increasing my technical skills. Before the assignment I had no knowledge or experience in using GitHub or Jupyter Lab. I also did not know how to use Terminal to install packages, navigate my local machine or open applications. Throughout this process I have learnt how useful Jupyter Lab is and how to push work to a Github repository.\n",
    "\n",
    "**What challenges did you face in this project and how you overcame those?**\n",
    "\n",
    "There were a great many challenges faced in this project as the learning curve was extremely steep and required fast adaptation. Unfortunately, I had no prior knowledge of Jupyter lab, GitHub, markdown syntax and terminal command lines. This meant that I had to learn a lot of new concepts which made doing simple tasks a lot more difficult. Furthermore, the instructions that were provided to the class on canvas about linking Jupyter Lab to GitHub did not work on my computer and I had to spend several hours with Juan fixing the issue. Juan was definitely a huge help when it came to overcoming obstacles and I learnt a great deal from him during this time. Other challenges included understanding machine learning decision trees and finding the correct python code to implement them in the Jupyter Notebook. Something I have come to understand about coding and solving errors is that it is important to remain optimistic about the outcome. Having a positive attitude and continuing to google and try different ways to solve a problem is a way that I overcame issues by myself. Perseverance has been a huge help for this assignment. \n",
    "\n",
    "**If you are faced with dealing with a real-world problem and need to do some modelling, how would you determine which modelling approach to take. Justify your response.**\n",
    "\n",
    "Using the many models thinking approach requires the use of creative thinking in order to fit a model to a real world problem. By having a strong understanding of the fundamental components of various models, an individual can decide which model will then be best suited to model the problem. Furthermore it would be extremely important to understand the problem and what I would be attempting to solve or show with the model. Considering whether it is random, rule based, behavioural or non-behavioural are aspects of the model which must be thought about to successfully determine which modelling approach to take.  Therefore, asking oneself “What do I want to model?”, would be a useful starting point. Throughout the semester I made visual summaries for each model that Juan went through in class so that I could quickly access a summarised version of everything we had learnt. I believe that if I had to model a real world problem, I would go through these summaries to refresh my memory on each model and then choose the most appropriate model from that information.  "
   ]
  },
  {
   "cell_type": "markdown",
   "metadata": {},
   "source": [
    "## Sabi Gauchan Thakali"
   ]
  },
  {
   "cell_type": "markdown",
   "metadata": {},
   "source": [
    "**Your contribution in the project**\n",
    "\n",
    "|   | |\n",
    "| ----------- | ----------- |\n",
    "|2.3| Identify current models or prevailing frames that are being used to address the problem|\n",
    "|2.4|Discuss how prevailing models/frames are preventing the problem from being fully addressed or solved|\n",
    "|3|Conceptual models - Markov model |\n",
    "|3.1|Based on your self-study of the supermarket of models, explain the three models that you have chosen to look at the problem|\n",
    "|3.2|Explanation of how the Markov model works and how it will be applied to the housing market.|\n",
    "|3.4|Describe any data sources (real or hypothetical) that are needed to construct the Markov model.|\n",
    "\n",
    "The many model thinking assessments consisted of possible solutions to solve the current systems or problems that we studied throughout our group assignment. Many professionals working in Information Systems related jobs require an understanding of human-centered complex systems and how it is related to IS. This modelling assignment has helped me gain new insight into modelling the behaviour of people, nature and business in the context of IS. The material presented in our assessment relates to how COVID-19 has affected the Australian housing market. With it being one of the major industries that drive the Australian economy, it is a relevant topic of analysis. I think learning about human-complex systems has been very useful for me because after my degree I would really like to work on modelling business processes and the models I have learnt so far have provided me with a general understanding about what already exists and what area of IS particular models are used in. \n",
    "\n",
    "\n",
    "The many model thinking theorem states that a group of models produces wiser problem-solving ideas than just using a single model. I have learnt that through applying methods of several models we are able to better understand how systems work and improve their performance. I have been lucky in this subject to work with three of my peers who I knew from previous classes, my team and I have become closer through our studies and they have all been very supportive. Researching a topic that is relevant to the current global pandemic has been very practical as I have been able to understand the Australian Governments response to the COVID-19. Some positives from this assessment are we got to choose our research topic and we were able to work collaboratively. Working with a team made studying during lockdown/COVID-19 better for me personally, I felt more connected to the subject and my peers as we were able to express our feelings and thoughts on the issue. \n",
    "\n",
    "\n",
    "We were faced with many challenges throughout this assessment, I found learning Python incredibly challenging even now I do not think I have grasped it completely. Luckily, our team leader Shino was able to figure it out, we are very lucky that she took the initiative and was able to help with this part of the assessment. At first, I found Github and Jupyter notebooks to be challenging as well; however, through making repositories on a somewhat weekly basis I feel as though I can successfully use it now. In my part of the assessment, in part 2.3 I had to find current models and frames that were being used to address COVID-19 in the housing market. I found it challenging to find this information as it is quite specific, at the time when I was writing this part of the assessment it was September so COVID-19 lockdown/social distancing measures were being implemented. What I did find were models currently being used to control and understand the virus so I explained these models and provided examples such as the SEIR framework, the Australia Bureau of Statistics, residential property sales data and political and economical relation frameworks. Lastly, it was quite challenging to find relevant housing market data to accurately create a Markov model simulation and information from credible sources as the results of the pandemic have not fully been determined. Considering the housing market is slower than other economic markets it is usually defined per quarter or in yearly figures, making it difficult to source accurate data. As Taylor and I worked on parts 3, 4 and 6 of the assessment together, we decided to make up the percentages of property sales in Australia so that we were able to provide scenarios for the Markov model. \n",
    "\n",
    "\n",
    "By working on this group assessment we were able to work in teams to solve real-world problems and communicate with each other our findings. I feel very lucky to have been in a group with such lovely girls, we all were able to communicate with each other at each step of the learning process, every week after class or during the week if anyone had any questions about individual parts or thoughts on how we could work better together we would communicate this. We regularly spoke on What’s app and MS teams about our project and we were able to work cohesively. All the girls have contributed a fair amount and I felt comfortable to speak openly with them. We received positive feedback from Juan and our peers for our Github pre-submission that I was very pleased with. It was reassuring to know that Juan liked our research and topic so much that he decided to share it with the whole class. When determining which modelling approach to take it is helpful to consider who will be using the model (stakeholders), what type of data is available for the problem and what is the intended outcome (purpose) of the model. If I was faced with the challenge of modelling a real-world problem I would use a many model thinking approach. From researching this assessment I have learnt that analysing three different models for the same problem helped us identify connections, similarities and differences in each model.\n"
   ]
  },
  {
   "cell_type": "markdown",
   "metadata": {},
   "source": [
    "## Alfiyyah Gurtala"
   ]
  },
  {
   "cell_type": "markdown",
   "metadata": {},
   "source": [
    "Introduction to human-centred complex systems has developed the foundational skills which has allowed as well as discern particular systems from different viewpoints and stakeholders, that most experts within the field come to understand how it all relates to one another. This project looked into many different models that would best fit a groups topic to identify possible solutions to the problem at hand. Through this project, it has helped gain a better understanding into the decision-making behaviours of an individual going through a specific business or life choice moment and how IS systems and models would be useful to visualise the outcomes and process.\n",
    " \n",
    "The topic for this assignment was related to the pandemic and how it would affect one of the factors that would impact the Australian economy. The chosen studied area for this project was how COVID-19 would affect the housing market within Australia, a subject that was not only applicable to analysis but also created much interest within the group. From this assessment and the semester learning about complex systems, it has allowed a new appreciation into a different side of the IS world around model development as understanding a few existing models in certain areas in the industry which are currently in use and how it integrates with its surroundings was interesting to learn.\n",
    " \n",
    "The benefits of being able to choose a topic as well as the people to work with, allowed a clear communication, good teamwork and collaboration, able to provide feedback to one another and being supportive as well as respectful. Thankfully, the chosen topic was an area where each of us was interested in and found it very useful in understanding the Australian Governments response towards COVID-19 and how to rebuild the Australian economy. By using the three different models in the project, it gave a better insight towards the housing market and identifying trends and data that would help when the time comes to either invest or purchase a property as an individual. The challenges faced throughout this project was learning and understanding python as it was like learning a new language but having to pick it up at a rapid pace, figuring out how to use GitHub and Jupyter notebook was also slightly difficult, however, through practice, trial and error it became easier.\n",
    " \n",
    "Finding the information, data, python code and graphs to reference for the random walks model part contribution to the assignment was slightly difficult to obtain, especially finding the right python code to run and making sure there was no syntax error before passing it onto Shino to add the code into the assignment piece. It was fascinating to see that the housing and stock market graphs worked every similar to the way a random walks model runs and how the Markov and Decision tree models were comparable to one another as well. The feedback given by the group members, other peers and Juan was quite valuable and gave a sense that individually we were on the right track but as a group the work we produce was at a high standard. It made all of us feel proud to know the hard work and countless amounts of feedback and questions asked was all worth it.\n",
    " \n",
    "With the new skills and tools learnt from this subject and project, heading into next semester’s subjects or potential career opportunity will provide a new outlook onto understanding and classifying the different tasks and codes by utilising what I’ve learnt through this semester in human-centred complex systems."
   ]
  },
  {
   "cell_type": "markdown",
   "metadata": {},
   "source": [
    "# **References**"
   ]
  },
  {
   "cell_type": "markdown",
   "metadata": {},
   "source": [
    "Aussie. (2020).  25 years of housing trends Australian housing market trends report. https://www.aussie.com.au/plan-compare/property-reports/25-years-of-housing-trends-property-market-report.html\n",
    "\n",
    "Australian Bureau of Statistics. (2020, August). Labour Force Australia. Australian Bureau of Statistics. \n",
    "        https://www.abs.gov.au/statistics/labour/employment-and-unemployment/labour-force-australia/latest-release        \n",
    " \n",
    "Australian Bureau of Statistics. (2020, October, 15). Labour Force, Australia. https://www.abs.gov.au/statistics/labour/employment-and-unemployment/labour-force-australia/latest-release\n",
    "        \n",
    "Bai, Z., Gong, Y., Tian, X., Cao, Y., Liu, W., & Li, J. (2020). The Rapid Assessment and Early Warning Models for COVID-19. Virologica Sinica, 35(3), 272-279. \n",
    "        https://doi.org/10.1007/s12250-020-00219-0\n",
    "        \n",
    "Brownlee, J. (2020, August 14). A Gentle Introduction to the Random Walk for Times Series Forecasting with Python. Machine Learning Mastery. \n",
    "        https://machinelearningmastery.com/gentle-introduction-random-walk-times-series-forecasting-python/\n",
    " \n",
    "Brugler, J. (2020, May 28). The impact of COVID-19 on Australia’s housing market. Pursuit; The University of Melbourne. \n",
    "        https://pursuit.unimelb.edu.au/articles/the-impact-of-covid-19-on-australia-s-housing-market \n",
    "\n",
    "BT, What’s happening in the property market as a result of COVID-19? | BT. (2020, May 26). Bt.Com.Au. \n",
    "        https://www.bt.com.au/insights/perspectives/2020/covid-19-and-the-australian-property-market.html \n",
    "        \n",
    "Buckman, S., Glick, R., Lansing, K., Petrosky-Nadeau, N., & Seitelman, L. (2020). Replicating and projecting the path of COVID-19 with a model-implied reproduction number. Infectious Disease Modelling, 5, 635-651. \n",
    "        https://doi.org/10.1016/j.idm.2020.08.007\n",
    "\n",
    "C¸akmakli, C., Demiralp, S., Kalemli O¨ zcan, S., Yes¸iltas, S., & A. Yıldırım, M. (2020). COVID-19 and Emerging Markets: An Epidemiological Model with International Production Networks and Capital Flows. IMF. Retrieved 21 September 2020, from \n",
    "        https://www.imf.org/en/Publications/WP/Issues/2020/07/17/COVID-19-and-Emerging-Markets-An-Epidemiological-Model-with-International-Production-49566.\n",
    "\n",
    "Ceballos, F. (2019, feb 23). Scikit-Learn Decision Trees. Towards data science. https://towardsdatascience.com/scikit-learn-decision-trees-explained-803f3812290d \n",
    "\n",
    "Coibion, O., Gorodnichenko, Y., & Weber, M. (2020). The Cost of the Covid-19 Crisis: Lockdowns, Macroeconomic Expectations, and Consumer Spending. NBER. Retrieved 20 September 2020, from \n",
    "        https://www.nber.org/papers/w27141.\n",
    "        \n",
    "CoreLogic. (2020). What does the latest employment data mean for the housing market?. https://www.corelogic.com.au/news/what-does-latest-employment-data-mean-housing-market#:~:text=This%20means%20housing%20growth%20rates,perform%20well%20when%20unemployment%20rises.\n",
    "        \n",
    "Eledath, B. (2018). bassimeledath/OMS. GitHub. Retrieved 5 November 2020, from https://github.com/bassimeledath/OMS\n",
    "\n",
    "Eledath, B. (2018). How to Build a Market Simulator Using Markov Chains and Python. Towards data science. Retrieved 5 November 2020, from https://towardsdatascience.com/how-to-build-a-market-simulator-using-markov-chains-and-python-7923256f8d29.\n",
    "        \n",
    "Evans, R., Rosewall, T., & Wong, A. (2020). The Rental Market and COVID-19 | Bulletin – September Quarter 2020. Reserve Bank of Australia. Retrieved 22 September 2020, from https://www.rba.gov.au/publications/bulletin/2020/sep/the-rental-market-and-covid-\n",
    "        19.html#:~:text=The%20COVID%2D19%20pandemic%20is,closures%20have%20reduced%20international%20arrivals.\n",
    "        \n",
    "GordCollins. (2020, September). Australia Housing Market 2021. ManageCasa.\n",
    "    https://managecasa.com/articles/australia-housing-market/\n",
    "\n",
    "Hamed, E. (2020, May, 07).  How high unemployment will affect the US housing market 2020. Mashvisor. https://www.mashvisor.com/blog/unemployment-affect-us-housing-market/\n",
    " \n",
    "Holmdahl, I., & Buckee, C. (2020). Wrong but Useful — What Covid-19 Epidemiologic Models Can and Cannot Tell Us. New England Journal Of Medicine, 383(4), 303-305. \n",
    "        https://doi.org/10.1056/nejmp2016822\n",
    "        \n",
    "Kenton, W. Kindness, David. (2020, May, 28). Sensitivity Analysis. Investopedia. https://www.investopedia.com/terms/s/sensitivityanalysis.asp#:~:text=Sensitivity%20analysis%20is%20a%20financial,a%20certain%20range%20of%20variables.\n",
    " \n",
    "McNeil-Willson, R. (2020). Framing in times of crisis: Responses to COVID-19 amongst Far Right movements and organisations. Icct.nl. Retrieved 20 September 2020, from \n",
    "        https://icct.nl/wp-content/uploads/2020/06/Framing-in-times-of-crisis-Responses-to-COVID-19-amongst-Far-Right-movements-and-organisations.pdf.\n",
    "\n",
    "Medium. (2018, August). Markov Chain: Simple example with Python. \n",
    "    https://medium.com/@balamurali_m/markov-chain-simple-example-with-python-985d33b14d19 \n",
    "\n",
    "Michael Yardney’s Property Update (2020, September). This week’s Australian Property Market Update - Latest Data, State by State 21st September. Property Update\n",
    "        https://propertyupdate.com.au/australian-property-market/ \n",
    "        \n",
    "McLean, S. (2020). How COVID-19 Is Impacting Property Prices Across Australia. Realestate.com.au. Retrieved 9 October 2020, from https://www.realestate.com.au/news/how-covid-19-is-impacting-property-prices-across-australias-regions-and-suburbs/.\n",
    "\n",
    "Naaman Zhou. (2020, March 12). Australian government unveils $17.6bn stimulus package as coronavirus hammers stock market. The Guardian; The Guardian. \n",
    "        https://www.theguardian.com/world/2020/mar/12/australian-government-unveils-176bn-stimulus-package-as-coronavirus-hammers-stock-market \n",
    "        \n",
    "NSW Government. (2020, January). Sydney Housing Supply Forecast. Research and Demography.\n",
    "        https://www.planning.nsw.gov.au/Research-and-Demography/Sydney-Housing-Supply-Forecast\n",
    "\n",
    "Poojari, D. (2019, Aug 2). Machine Learning Basics: Decision Tree From Scratch. Towards data science. https://towardsdatascience.com/machine-learning-basics-descision-tree-from-scratch-part-ii-dee664d46831 \n",
    "        \n",
    "Razaghi, T. (2020). Property prices yet to see full scale of COVID-19 pandemic's impact: economists. Domain. Retrieved 9 October 2020, from https://www.domain.com.au/news/property-prices-yet-to-see-full-scale-of-covid-19s-impact-economists-982528/.        \n",
    "        \n",
    "Random Walks [Introduction to Human-centred Complex Systems 41189 Lecture notes]. Canvas UTS Online. \n",
    "        https://canvas.uts.edu.au/courses/15782/pages/random-walks?module_item_id=331037\n",
    "\n",
    "Random Walks and Markov Chains. Cs.cmu.edu. (2020). Retrieved 5 November 2020, from https://www.cs.cmu.edu/~avrim/598/chap5only.pdf.\n",
    "        \n",
    "Residential Property Price Indexes: Eight Capital Cities, June 2020. Australian Bureau of Statistics. (2020). Retrieved 21 September 2020, from \n",
    "        https://www.abs.gov.au/statistics/economy/price-indexes-and-inflation/residential-property-price-indexes-eight-capital-cities/latest-release.\n",
    " \n",
    "Saunders, T., Tulip, P. (2019, March).  A Model of the Australian Housing Market. Economic Research Department Reserve Bank of Australia. \n",
    "        https://www.rba.gov.au/publications/rdp/2019/pdf/rdp2019-01.pdf\n",
    "        \n",
    "Shinde, G., Kalamkar, A., Mahalle, P., Dey, N., Chaki, J., & Hassanien, A. (2020). Forecasting Models for Coronavirus Disease (COVID-19): A Survey of the State-of-the-Art. SN Computer Science, 1(4). https://doi.org/10.1007/s42979-020-00209-9\n",
    "\n",
    "Subramaniam, S (n.d). 1.3.1 Random walk method. Anew mesh-free vortex method. http://eng-web1.eng.famu.fsu.edu/~dommelen/papers/subram/style_a/node6.html\n",
    "CFI. (2020). What is the random walk theory?. Random Walk Theory. https://corporatefinanceinstitute.com/resources/knowledge/trading-investing/what-is-the-random-walk-theory/\n",
    "        \n",
    "The Treasury Coronavirus Business Liaison Unit. (2020). The JobKeeper Payment Three-Month Review. The Australian Government. Retrieved from https://treasury.gov.au/sites/default/files/2020-07/jobkeeper-review-2020_0.pdf        \n",
    "        \n",
    "World Health Organization. (2004). WHO SARS Risk Assessment and Preparedness Framework. World Health Organization. Retrieved from \n",
    "        https://www.who.int/csr/resources/publications/CDS_CSR_ARO_2004_2.pdf?ua=1\n",
    " \n",
    "Wang, C., Pan, R., Wan, X., Tan, Y., Xu, L., Ho, C., & Ho, R. (2020). Immediate Psychological Responses and Associated Factors during the Initial Stage of the 2019 Coronavirus Disease (COVID-19) Epidemic among the General Population in China. International Journal Of Environmental Research And Public Health, 17(5), 1729. \n",
    "        https://doi.org/10.3390/ijerph17051729\n",
    "     \n",
    "Wang, J. (2020). Mathematical models for COVID-19: applications, limitations, and potentials. Journal Of Public Health And Emergency, 4, 9-9. \n",
    "        https://doi.org/10.21037/jphe-2020-05\n",
    "\n",
    "Yardney, M. (2020, September 13). Sydney property market outlook. Michael Yardney’s Property Update. https://propertyupdate.com.au/property-investment-sydney/\n"
   ]
  }
 ],
 "metadata": {
  "kernelspec": {
   "display_name": "Python 3",
   "language": "python",
   "name": "python3"
  },
  "language_info": {
   "codemirror_mode": {
    "name": "ipython",
    "version": 3
   },
   "file_extension": ".py",
   "mimetype": "text/x-python",
   "name": "python",
   "nbconvert_exporter": "python",
   "pygments_lexer": "ipython3",
   "version": "3.8.3"
  },
  "toc-autonumbering": true
 },
 "nbformat": 4,
 "nbformat_minor": 4
}
