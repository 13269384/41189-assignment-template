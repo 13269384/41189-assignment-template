{
 "cells": [
  {
   "cell_type": "markdown",
   "metadata": {
    "toc-hr-collapsed": false
   },
   "source": [
    " **41189 Modelling Assignment — Group 2**\n",
    " \n",
    " Topic: Impact of Covid-19 on the housing market\n",
    " \n",
    " Group members:\n",
    " \n",
    " - Sabi Gauchan Thakali\n",
    " - Alfiyyah Gurtala\n",
    " - Taylor Liew\n",
    " - Shino Takesako"
   ]
  },
  {
   "cell_type": "markdown",
   "metadata": {
    "toc-hr-collapsed": false
   },
   "source": [
    "# Introduction"
   ]
  },
  {
   "cell_type": "markdown",
   "metadata": {},
   "source": [
    "## State the problem, why it is important/relevant to you and/or more broadly to society"
   ]
  },
  {
   "cell_type": "markdown",
   "metadata": {},
   "source": [
    "The problem that is being investigated and researched through these models is the effects of the coronavirus in the housing market. Coronavirus is an infectious disease/ virus spread through the transmission of droplets e.g. exhale, sneeze, cough as these droplets hang in the air. As the world is currently living in a global pandemic this has created uncertainty and unpredictable outcomes for both consumers and business’. This has ultimately affected the way that society, markets, business’ and the world operate to accommodate this change. Previously, the Australian housing market has seen significant growth fueled by the demand of consumers as well as infrastructure investment from the government. However Coronavirus has resulted in significant effects of a recession creating falling consumer confidence with reduced demand for properties as workers are losing jobs and earning less money. This makes it much harder to borrow money from banks due to instability in jobs, with the housing market having to discount and lower prices for properties to make sales. \n",
    "\n",
    "As a group, the effects of the coronavirus in the housing market creates both short and long term effects. Some student’s families do not have steady incomes and have resulted in dependence on centrelink and job seeker/ keeper. This can create increased short term distress and potential family issues, while potentially elevating later issues related to mental health. Due to the struggle to pay for basic necessities like the rent of their own home. The unpredictability of this situation can create different reactions from individuals depending on their personal circumstances. University students have also found it harder to find part time jobs as the workforce is shrinking and for those graduating this has made it even harder. \n",
    "\n",
    "Furthermore in the long-term as students start to buy a house or apartment this is an important investment which could benefit from this pandemic. This is because the housing market is unlikely to quickly bounce back and recover from this significant obstacle. Instead housing prices are expected to be lower for the next period of time making it cheaper and easier for this generation to buy or rent a house assuming they have a steady job and income. \n",
    "The importance and relevance of coronavirus to society has already created significant short term effects impacting people’s day to day lives. Lowered consumer confidence and increasing levels of unemployment has created detrimental effects to the economy meaning people cannot live their lives normally. This has resulted in individuals and families having to find alternative homes when they can no longer afford rent, such as downgrading or even government housing. These changes in society have a multiplier effect from business’ all the way down to individuals, which can directly or indirectly create negative impacts. There isn’t a single individual that is not affected by these impacts and they have created challenges for day to day life and for the future. \n"
   ]
  },
  {
   "cell_type": "markdown",
   "metadata": {
    "toc-hr-collapsed": false
   },
   "source": [
    "# Context, background information, justification"
   ]
  },
  {
   "cell_type": "markdown",
   "metadata": {},
   "source": [
    "## Research and review literature, news, digital media, drivers and how the problem is being addressed by academia, industry, government, etc."
   ]
  },
  {
   "cell_type": "markdown",
   "metadata": {},
   "source": [
    "The issue of coronavirus in the housing market is a problem that is currently being addressed by the government, industry and academia. This is driven by the uncertainty and detrimental effects it has had on individuals and business’ currently and into the future. \n",
    "\n",
    "The government quickly responded to this sudden change when coronavirus was first reported in March. The Reserve Bank of Australia reacted by immediately decreasing the cash rate to a record low of 0.25% on March 19. This was an important response to accommodate the reaction of the economy following the difficulty in affordability of houses. Thus, making it cheaper to borrow money from the banks in hopes of stimulating and improving the economy. This can be seen in the graph below of the cash target rate by the RBA, and its reduction in response to current economic conditions. "
   ]
  },
  {
   "cell_type": "markdown",
   "metadata": {},
   "source": [
    "![cash rate graph](Cash rate.png)"
   ]
  },
  {
   "cell_type": "markdown",
   "metadata": {},
   "source": [
    "The University of Melbourne models predicted that *“residential property prices across all capital cities will fall by \n",
    "4.4 per cent over the June quarter and by another 2.3 per cent in the September quarter of 2020. Sydney prices are \n",
    "predicted to fall by 4 per cent in the June quarter and about 2.5 per cent in the September quarter.”*\n",
    "This predicted fall in housing prices has followed the pattern of the current cash rate in response to the Coronavirus. \n",
    "It is hard to determine how effective this monetary policy is, as the effects of a lowered cash rate are significantly\n",
    "Influenced by other factors and tend to lag several months after being implemented. \n",
    "\n",
    "The government has also further responded by implementing stimulus packages and cash handouts to consumers to support small to medium business’. Aiming to help stimulate the economy and growth during this sluggish time by allowing for expansion and payment of bills and rent. This \\\\$17.6 billion stimulus package has three main aims: protecting Australian health, securing jobs and livelihood and being able to bounce back when this crisis is over. A further \\\\$750 cash payments to approximately 6.5 million people on low incomes costing \\\\$4.67 billion was implemented for economic stimulus to those in welfare or pensions. As this was only a quarter of stimulus, the remaining is for businesses to receive cash payments and wage subsidies for apprentices to help during this period of time. \n",
    "\n",
    "Businesses have had to respond to partial closures during peak coronavirus periods in lockdown, creating loss of profit and clientele. As a result this has had a multiplier effect resulting in reducing staff, reducing supplies and restricting the amount of people in their shop. There is only so much that can be done by these businesses to help their staff and shop from going under with uncertainty about when it will recover. Some businesses have seen opposite effects with a particular spike in alcohol and homeware purchases. Within the housing market strict closure of open homes and auctions were put to a hold during the lockdown, making it much harder to direct sales and achieve a strong market. Recently, restricted numbers in open houses are allowed with preference for personal bookings to reduce the spread. Similarly auctions are more likely to be held in auction rooms rather than on the actual property and pre-negotiated deals are usually preferred. \n",
    "\n",
    "With all this help and stimulus, this creates opportunity within the market to eventually recover and bounce back. As the cost of borrowing is historically low at record low interest rates and the economy has not fully shut down. This means that there is potential and opportunity for recovery for the economy but how long this will take is uncertain. "
   ]
  },
  {
   "cell_type": "markdown",
   "metadata": {},
   "source": [
    "## Identify the system + stakeholders. For this, you will need to construct a “rich picture” that captures the essential elements."
   ]
  },
  {
   "cell_type": "markdown",
   "metadata": {},
   "source": [
    "A system can be defined as a group of interacting or interrelated entities that form a unified whole. This is surrounded and further influenced by its environment and boundaries which form the structure and purpose. Systems contain multiple elements and parts which are necessary to form relationships to further perform functions. The Coronavirus in the housing market is a fairly open complex system as it is adaptive and fairly social. This is particularly because there is no textbook outcome of how different aspects of the system will be affected and to what extent. \n",
    "\n",
    "Stakeholders can be defined as those with a vested interest in the success of the business/ system. Coronavirus in the housing market affects many different involved parties which create different stakeholders. The government wants more people to buy houses as this means that individuals are paying stamp duty and taxes, creating a form of revenue. This revenue can be further injected into funding more infrastructure investment to build apartments and houses to create a cycle of revenue. Consumers are the ones that want to buy these different properties as it means they have a place to live and start their life. They are looking for the most valuable property to accommodate their individual needs which further benefits the economy through their consumption. All real estate business’ aim to sell a large number of properties at high prices as they are paid by commission and are seeking to receive a high profit. \n",
    "\n",
    "This rich picture creates a very visual interpretation of both the system and stakeholders capturing the essential elements. The main stakeholders are consumers, government and business’ as they play a vital role within the housing market that is now affected by the coronavirus. Essentially businesses provide a good or service which means they have to rent or buy a property to carry out these activities. They need to employ workers to be able to complete these tasks and they are then paid a wage. With this wage, workers and consumers need to have a place to stay e.g. a house or apartment which can be bought or rented. With the money they make, part of this will go to a real estate business to purchase a property as well as to the government through stamp duty and taxes. Similarly the real estate business will have to pay taxes e.g. company tax as well. This revenue generated from the interaction between business’ and consumers benefits the business as well as all parties involved. "
   ]
  },
  {
   "cell_type": "markdown",
   "metadata": {},
   "source": [
    "![](rich picture.png)"
   ]
  },
  {
   "cell_type": "markdown",
   "metadata": {},
   "source": [
    "## Identify current models or prevailing frames that are being used to address the problem"
   ]
  },
  {
   "cell_type": "markdown",
   "metadata": {},
   "source": [
    "Models have been the forefront of many key policy decisions relating to COVID-19, largely due to the unforeseeable nature of the virus and many uncertainties about the spread. Models are important tools for shaping health systems during the pandemic, estimating epidemiological knowledge of the virus and its spread as well as determining the best path forward (Buckman et al., 2020). The virus has affected travel, retail, manufacturing, finance, technology and notably the housing industry. A study of how the current models are being addressed and how it has affected the Australian housing market will be discussed. The housing market is one of the major industries that drive the Australian economy through investment and construction. Across the globe, countries are struggling with COVID-19 both as a public health crisis and economic recession."
   ]
  },
  {
   "cell_type": "markdown",
   "metadata": {},
   "source": [
    "Although being identified back in December 2019 in Wuhan, China, COVID-19 became most prominent in Australia between late January to late June where it put many parts of Australia into a lockdown phase for several months. Australian Federal and State Governments have implemented several policies to protect renters and homeowners. There has been a significant response to the pandemic by the Australian Government with many programs in place to aid in the crisis period such as:\n",
    "- Pandemic Leave Disaster Payment\n",
    "- Energy Accounts Payment Assistance\n",
    "- Temporary Debt Protection\n",
    "- Six-month moratorium on residential tenancy evictions"
   ]
  },
  {
   "cell_type": "markdown",
   "metadata": {},
   "source": [
    "a) According to the World Health Organization (WHO), after the Severe Acute Respiratory Syndrome (SARS) pandemic back in 2003, Severe Acute Respiratory Syndrome Coronavirus 2 (SARS-CoV-2) was also identified in many species considered as delicacies in southern China at the time. At the time the WHO created a Global risk assessment framework during the inter-epidemic period to conduct the most appropriate strategy based on the country’s level of risk. In the risk assessment strategy, there are five outlined phases where the level of risk is incremental as the cases escalate (World Health Organization, 2004). This framework also includes WHO alerting the international community of the virus outbreak and its spread and that countries who have any cases must report to WHO within 24 hours of the receipt of positive test results."
   ]
  },
  {
   "cell_type": "markdown",
   "metadata": {},
   "source": [
    "![prepardness levels table](prepared.png)"
   ]
  },
  {
   "cell_type": "markdown",
   "metadata": {},
   "source": [
    "figure 3, World Health Organization (2004)"
   ]
  },
  {
   "cell_type": "markdown",
   "metadata": {},
   "source": [
    "The Australian rental market in particular has been heavily impacted as prices have reduced with higher supply and lower demand. The Rental market began to decline from April 2020, mostly for apartments as some individuals chose to move back home with family, were no longer financially capable of paying rent due to lack of work available as lockdown proceeded (Evans et al., 2020). "
   ]
  },
  {
   "cell_type": "markdown",
   "metadata": {},
   "source": [
    "b) The Susceptible Exposed Infectious Recovered (SEIR) framework, acts similar to the way the SARS-CoV-2 spreads and is currently used to predict future transmission scenarios. The SEIR model indicates that individuals may flow in-between stages from Susceptible and infected individual come into contact, exposed indicates that there is a delay between exposure and infection, then the number of infectious individuals who are capable of spreading the virus and lastly in this stage these are individuals who have either been recovered, died or are resistant from the virus. Due to the four phases of the SEIR framework, it is classified as a compartmental model as each individual typically progresses from one phase to another in order. This type of model is also a mechanistic model, which assumes that a complex system can be understood by examining its individual parts and in the order, they work and is one of the only ways to analyse possible long term epidemiological outcomes (Holmdahl & Buckee, 2020). Models are a way for researchers to establish what is known about viral transmissions and to design improved systems that produce more dynamic results rather than human intuition alone. Hospitalisation and deaths have become reliable data, however, many biological features are still hard to depict and remain unknown (Holmdahl & Buckee, 2020). "
   ]
  },
  {
   "cell_type": "markdown",
   "metadata": {},
   "source": [
    "c) Statistical and machine learning models are emerging and have been created for forecasting confirmed cases, recovery, deaths, as well as incorporating categorical data such as age, gender, place of residence, health condition and travel history. These models focus on the importance of implementing social distancing measures to slow the spread of transmission. It is important for banks, investors and homeowners to have access to accurate house price predictions data. With the use of Machine Learning (ML) algorithms researchers are able to forecast house prices and predictions in Australia and compare it to traditional models. The Macquarie Business School as deployed 47 algorithms to generate predictions then it will use statistical tests to evaluate each forecast and find any variances. "
   ]
  },
  {
   "cell_type": "markdown",
   "metadata": {},
   "source": [
    "d) Extreme politics known as far-right politics are those who favour the dominant government groups and often treat other groups as irrational or unimportant. In the ICCT research paper, the author investigated the Far-right group using data from an open-source platform named Telegram where six crisis frames were identified. Unlike Facebook and Twitter where the inappropriate content is removed or banned, Telegram allowed for this propaganda to be unverifiable (McNeil-Willson, 2020). "
   ]
  },
  {
   "cell_type": "markdown",
   "metadata": {},
   "source": [
    "## Discuss how prevailing models/frames are preventing the problem from being fully addressed or solved"
   ]
  },
  {
   "cell_type": "markdown",
   "metadata": {},
   "source": [
    "a) There have been several claims that China failed to report the earliest positive test results with the WHO, thus unfolding the outbreak. However, the Chinese government acted swiftly and three weeks into the epidemic a lockdown with travel restrictions was applied. Shortly after, Quarantine was enforced to the rest of the cities which affected more than 50 million people. Although the virus outbreak is first to appear in China, it is also one of the first to contain it. According to the study conducted by Wang et al. (2020), 24.5% reported minimal psychologica impact, 21.7% reported mild impact and 53.8% reported severe impact. "
   ]
  },
  {
   "cell_type": "markdown",
   "metadata": {},
   "source": [
    "b) According to the findings by the National Academy of Sciences of the United States of America, in the early stages of the pandemic exponential growth is seen in the infection data as recoveries and deaths are not yet able to be recorded. According to the Australia Bureau of Statistics, residential property sales fell drastically in all of Australia’s capital cities during the June 2020 quarter with a weighted average of -1.8%; Sydney falling -2.2% behind. Residential property prices are important to policymakers, market analysts and researchers as it is used to study how the spread COVID-19 has affected the Australian housing market. There has been a considerable drop in domestic and foreign demand which are related to infection rates (C¸akmakli et al., 2020). "
   ]
  },
  {
   "cell_type": "markdown",
   "metadata": {},
   "source": [
    "![](property prices.png)"
   ]
  },
  {
   "cell_type": "markdown",
   "metadata": {},
   "source": [
    "c) There are many challenges with forecasting house prices, the main issue being that there is a minimum length of available data as the virus only started to affect the Australian house market this year. Another challenge is that house price ratios are formulated in a monthly and quarterly fashion which makes it difficult to build and test  ML models. It was found by the Macquarie Business School that the best forecasting models are from a small scale model rather than the random walk model because there is room for cross-evaluation. Because the data set collected on Australia house prices are all new, released on a monthly frequency and the change in individuals income levels depending on the virus spread rate, it makes it difficult to construct algorithms to predict accurate prices for the future."
   ]
  },
  {
   "cell_type": "markdown",
   "metadata": {},
   "source": [
    "d) According to the ICCT report, it suggests that during the period of late February to late April there was a noticeable response to COVID-19 by the far-right group, most of their framework has been an act on authority, activism and pro-social behaviour using propaganda (McNeil-Willson, 2020). It has been suggested that this group has been exploiting the pandemic as a way to enforce propaganda and activism, for instance, such propaganda has been used to spread misinformation and to aid recruitment and induce violence. Thus, why there is a strong need to identify the influential crisis frames of far-right politics in order to develop community resilience (McNeil-Willson, 2020). Not only does framing help to understand symbols and models used by groups but it also helps in the evaluation and functionality of the frames itself. Whilst framing is important for identifying Far-right responses to the COVID crisis, it is also wise to consider how these frames and models behave in a wider political and economical context (Coibion et al., 2020). "
   ]
  },
  {
   "cell_type": "markdown",
   "metadata": {
    "toc-hr-collapsed": false
   },
   "source": [
    "# Conceptual Models"
   ]
  },
  {
   "cell_type": "markdown",
   "metadata": {},
   "source": [
    "## Based on your self-study of the supermarket of models, explain the three models that you have chosen to look at the problem"
   ]
  },
  {
   "cell_type": "markdown",
   "metadata": {},
   "source": [
    "The topic of Covid-19 and the housing market is extremely current and reflects the tumultuous times that society is facing. Due to these uncertain circumstances, people require tools and models to make the best possible decision. Therefore the decision tree is one of the models chosen to assist people in making decisions about Covid-19 and the housing market. The second model is the random walks model which is based on random chance, very similar to the unprecedented situation of Covid-19. The final model is the Markov model which aims to demonstrate the movement from one state to another. "
   ]
  },
  {
   "cell_type": "markdown",
   "metadata": {},
   "source": [
    "## Explain how each of the three models works (brief) and how it will be applied in your case."
   ]
  },
  {
   "cell_type": "markdown",
   "metadata": {},
   "source": [
    "### Decision Trees"
   ]
  },
  {
   "cell_type": "markdown",
   "metadata": {},
   "source": [
    "The decision tree is a model which assists people in decision making as it clearly depicts outcomes from a series of choices. The flow chart visualisation begins with a root node that breaks off into subsequent internal nodes which have arrows pointing towards and away from them to represent specific choices of an attribute. Each branch demonstrates the outcome of the test. Additional to the structure of decision trees are leaf nodes which only have arrows pointing towards them to highlight the decision taken after considering and computing all attributes. Decision trees are an extremely useful model as they are simple to understand and provide simulations of possible scenarios and outcomes. "
   ]
  },
  {
   "cell_type": "markdown",
   "metadata": {},
   "source": [
    "The Covid-19 pandemic has brought about mass disruption as the situation is continuously changing. Clearly, there is huge uncertainty when it comes to making decisions as there are a large range of factors that contribute to making a choice. Unfortunately during these unprecedented times, the ability for people to ascertain a concrete outcome is extremely difficult. The fear of another uncontrollable outbreak occurring in Australia has made many people wary of committing to decisions as they are unsure if what they based their decision on will be valid in the future. The major factor of uncertainty about the future is contributing to people’s fear and worries as they may feel like there are no answers. It is due to these limiting factors of uncertainty in one outcome that decision tree models will be extremely useful. By providing a way to model a wide variety of influencing factors, decision trees offer aid in decision making as they demonstrate possible consequences and include the probability of that event occurring. It is because of these qualities of a decision tree model that they will be extremely useful in assisting people to predict whether selling their property will benefit them or not. Furthermore, by considering the circumstances this information can help predict the impact on covid-19 on the housing market. Ultimately, the decision tree will be used to predict the outcome of people selling or not selling their properties due to factors related Covid-19."
   ]
  },
  {
   "cell_type": "markdown",
   "metadata": {},
   "source": [
    "### Random Walks"
   ]
  },
  {
   "cell_type": "markdown",
   "metadata": {},
   "source": [
    "The significance of the random walk model is based on the idea of flipping a coin where each variable has a 50/50 chance of making a random step away from the prior result. The stages of each data are individually and identically scattered, as the difference of the first variable states that the information taken is a random path that makes all approaches of forecasting to be useful as well as useless in the long run depending on the scenario given or the additional risks involved. Overall, the random walk model is a main tool to implement regardless of whether the model is used to predict and forecast particular situations (2020)."
   ]
  },
  {
   "cell_type": "markdown",
   "metadata": {},
   "source": [
    "Due to the Covid-19 pandemic common daily decisions and ways of life are constantly changing as new discoveries are found. From this, making any variety of choices are affected by factors such as finances, social and political influences which may alter the end goal. In a time of doubt, accepting what is happening in people’s lives, jobs and the economy, in particular the impact towards the housing market is important, as it is the one of the major sources of prosperity for most Australian families (Brugler, 2020). The pandemic has produced one of the quickest and greatest global economic shortenings towards the property market. As house values generally take longer to change or have an effect based on the different reasons caused by the economy. Fundamentally, houses are harder to buy and sell than stocks and bonds, as individuals view houses as more than just an investment. By using the random walk model, it would create an effective market theory, which can indicate the previous house prices and reflect the impact of the outbreak with current available information, based on the facts provided any changes in the cost should be at random (Yardney, 2020)."
   ]
  },
  {
   "cell_type": "markdown",
   "metadata": {},
   "source": [
    "### Markov Models"
   ]
  },
  {
   "cell_type": "markdown",
   "metadata": {},
   "source": [
    "The Markov model, named after Andrey Markov who was a Russian mathematician, it is a system that moves from one state to another. It is based on the theory that future states depend solely on the current states and that past states have no significance. The aim of this model is to see how likely it is for something to move from one state to another. Similarly, the Markov Convergence theorem states that as long as a couple of very mild assumptions hold true then the system will tend towards an equilibrium overtime. "
   ]
  },
  {
   "cell_type": "markdown",
   "metadata": {},
   "source": [
    "There are several different types of models depending on if the system state is fully or partially observable and if the system is autonomous or controlled. COVID-19 in the housing market can be explored through the Markov model to understand the behaviour, trends and patterns that are being followed. This particularly can look at how to predict the number of new cases and how this may be affecting the housing market. "
   ]
  },
  {
   "cell_type": "markdown",
   "metadata": {},
   "source": [
    "## Describe any data sources (real or hypothetical) that are needed to construct the three models. Use illustrative drawings and diagrams where possible"
   ]
  },
  {
   "cell_type": "markdown",
   "metadata": {},
   "source": [
    "### Decision Trees"
   ]
  },
  {
   "cell_type": "markdown",
   "metadata": {},
   "source": [
    "There are a multitude of factors that will influence whether people feel safe enough to sell their properties. Based upon the assumption that people want to make the greatest profit from selling their property, the factor of increasing or decreasing house prices must be considered. Furthermore, data regarding the level of demand, unemployment rate, cash rate and Covid-19 cases must be considered when formulating the decision tree (Figure 1). This data will influence the probability of individuals deciding to sell their property or not. The same concept can also be applied to the probability of individuals deciding to buy property or not.  Moreover, it would be useful to compare the data from this time last year to ascertain how the circumstances during 2019 were impacting people’s decisions."
   ]
  },
  {
   "cell_type": "markdown",
   "metadata": {},
   "source": [
    "<div>\n",
    "<img src=\"Factors.png\" alt=\"Drawing\" style=\"width:500px;height:1400px;\"/>\n",
    "</div>"
   ]
  },
  {
   "cell_type": "markdown",
   "metadata": {},
   "source": [
    "Figure 1"
   ]
  },
  {
   "cell_type": "markdown",
   "metadata": {},
   "source": [
    "In order to determine the probability of sellers and buyers, mock tree diagrams have been constructed. Figure 2 and 3 represents a simplified diagram which reflects the choices made by people deciding to buy, sell or do nothing. The nodes represent a choice being made, however in order to determine the probability of each decision occurring, it is important to consider data sources which reflect the current demand for property, prices and interest rates. To show this, figure 4 provides a more in depth breakdown of the possible data that will showcase the current situation in the housing market. Based on our research, the hot pink nodes demonstrate the current choices people are making as influenced by Covid-19. However, moving forward it will be imperative to attain data sources which can support this diagram. "
   ]
  },
  {
   "cell_type": "markdown",
   "metadata": {},
   "source": [
    "<div>\n",
    "<img src=\"Figure 2.png\" alt=\"Drawing\" style=\"width:400px;height:400px;\"/>\n",
    "</div>"
   ]
  },
  {
   "cell_type": "markdown",
   "metadata": {},
   "source": [
    "Figure 2"
   ]
  },
  {
   "cell_type": "markdown",
   "metadata": {},
   "source": [
    "<img src=\"Figure 3.png\" alt=\"Drawing\" style=\"width:350px;height:400px;\"/>"
   ]
  },
  {
   "cell_type": "markdown",
   "metadata": {},
   "source": [
    "Figure 3"
   ]
  },
  {
   "cell_type": "markdown",
   "metadata": {},
   "source": [
    "![Figure 4](Figure 5.png)"
   ]
  },
  {
   "cell_type": "markdown",
   "metadata": {},
   "source": [
    "Figure 4"
   ]
  },
  {
   "cell_type": "markdown",
   "metadata": {},
   "source": [
    "### Random Walks"
   ]
  },
  {
   "cell_type": "markdown",
   "metadata": {},
   "source": [
    "From the multiple factors influencing the housing market price due to the pandemic, decisions on whether to buy or sell during this timeframe is uncertain for most Australian individuals and families. The notion that people wanting to buy property during this time is to purchase at the lowest rate and price, whereas those that want to sell are to gain as much profit as possible. When creating a random walk model, the data gathered from research should consist of the interest rate, demand based on location and income prior to COVID-19 as well the current data collected during this period (Saunders & Tulip, 2019). "
   ]
  },
  {
   "cell_type": "markdown",
   "metadata": {},
   "source": [
    "To develop a random walk model, start with a random number of either -1 or 1. After this step, randomly select any of the digits then increase the amount to the observation from the previous time step and repeat the steps for as long as needed. This process can be described by y(t) = B0 + B1*X(t-1) + e(t), where y(t) is the following value in the sequence. B0 is a coefficient that if set to a value other than zero adds a constant drift to the random walk. B1 is a factor to weight the previous time step and is set to 1.0. X(t-1) is the remark at the previous time step. e(t) is the white noise or random variation at that time (Brownlee, 2020)."
   ]
  },
  {
   "cell_type": "markdown",
   "metadata": {},
   "source": [
    "![](random walk image.png)"
   ]
  },
  {
   "cell_type": "markdown",
   "metadata": {},
   "source": [
    "Figure 1 (Brownlee, 2017)"
   ]
  },
  {
   "cell_type": "markdown",
   "metadata": {},
   "source": [
    "![](ff.png)"
   ]
  },
  {
   "cell_type": "markdown",
   "metadata": {},
   "source": [
    "Figure 2 (Yardney, 2020)"
   ]
  },
  {
   "cell_type": "markdown",
   "metadata": {},
   "source": [
    "![](asas.png)"
   ]
  },
  {
   "cell_type": "markdown",
   "metadata": {},
   "source": [
    "Figure 3 (Yardney, 2020)\n"
   ]
  },
  {
   "cell_type": "markdown",
   "metadata": {},
   "source": [
    "In figure 1 the python code can demonstrate the process and development of the time steps for a random walk model, which can be altered to plot the changes in housing prices over the months shown in figure 2 or between different locations based on the statistics from figure 3 to identify the increases and decreases in price pre-COVID to the current status. From the information gathered, the impact on estate prices will be contingent on how lengthy it will take to comprise the disease, how employment growth will recoil and the levels of consumer certainty (Yardney, 2020)."
   ]
  },
  {
   "cell_type": "markdown",
   "metadata": {},
   "source": [
    "### Markov Models"
   ]
  },
  {
   "cell_type": "markdown",
   "metadata": {},
   "source": [
    "In order to create a Markov Model, more than one state and transitional probabilities are required, everytime an action is taken from one state to another, it is called a transitional event. All transitional probabilities going out of a state should always equal to one e.g COVID-19 decreasing housing prices has a probability score of 0.6, COVID-19 increasing housing prices has a score of 0.3 and house prices remaining the same has a score of 0.1, therefore, all probabilities resulting in 1. Typically, we must watch the process and count how many times a probability transition takes place, in this case, we need to count how many properties there are in the market and how many are sold."
   ]
  },
  {
   "cell_type": "markdown",
   "metadata": {},
   "source": [
    "#### *Transitional probability matrix*"
   ]
  },
  {
   "cell_type": "markdown",
   "metadata": {},
   "source": [
    "![](Transitional.png)"
   ]
  },
  {
   "cell_type": "markdown",
   "metadata": {},
   "source": [
    "#### *Google Page Rank Algorithm*"
   ]
  },
  {
   "cell_type": "markdown",
   "metadata": {},
   "source": [
    "For example, Google uses the page rank algorithm to run web pages on the order of their priority which is based on the idea of the Markov model. PageRank is an algorithm used by Google to rank pages in the search engine and for example, upon searching Markov model on Google, it provides the top ten popular pages. The web consists of pages and the pages can be connected to one another via links. Google’s page rank algorithm assumes that if many other pages are linked to a particular page, that page is generally important meaning a web page that is linked to more other pages is considered to be more important than one that is not. \n"
   ]
  },
  {
   "cell_type": "markdown",
   "metadata": {},
   "source": [
    "![](dwellingvalues.png)"
   ]
  },
  {
   "cell_type": "markdown",
   "metadata": {},
   "source": [
    "(Gord Collins, 2020)"
   ]
  },
  {
   "cell_type": "markdown",
   "metadata": {},
   "source": [
    "There is no doubt that COVID-19 has severely impacted all housing forecasts made from the last two years. The housing market will continue to go down as long as unemployment rates go up resulting in increasing property prices. "
   ]
  },
  {
   "cell_type": "markdown",
   "metadata": {},
   "source": [
    "![](simplemarkovmodel.png)"
   ]
  },
  {
   "cell_type": "markdown",
   "metadata": {},
   "source": [
    "(Medium, 2018)"
   ]
  },
  {
   "cell_type": "markdown",
   "metadata": {},
   "source": [
    "# *References for week 8 pre-submission*"
   ]
  },
  {
   "cell_type": "markdown",
   "metadata": {},
   "source": [
    "Australian Bureau of Statistics. (2020, August). Labour Force Australia. Australian Bureau of Statistics. \n",
    "        https://www.abs.gov.au/statistics/labour/employment-and-unemployment/labour-force-australia/latest-release \n",
    "        \n",
    "Bai, Z., Gong, Y., Tian, X., Cao, Y., Liu, W., & Li, J. (2020). The Rapid Assessment and Early Warning Models for COVID-19. Virologica Sinica, 35(3), 272-279. \n",
    "        https://doi.org/10.1007/s12250-020-00219-0\n",
    "        \n",
    "Brownlee, J. (2020, August 14). A Gentle Introduction to the Random Walk for Times Series Forecasting with Python. Machine Learning Mastery. \n",
    "        https://machinelearningmastery.com/gentle-introduction-random-walk-times-series-forecasting-python/\n",
    " \n",
    "Brugler, J. (2020, May 28). The impact of COVID-19 on Australia’s housing market. Pursuit; The University of Melbourne. \n",
    "        https://pursuit.unimelb.edu.au/articles/the-impact-of-covid-19-on-australia-s-housing-market \n",
    "\n",
    "BT, What’s happening in the property market as a result of COVID-19? | BT. (2020, May 26). Bt.Com.Au. \n",
    "        https://www.bt.com.au/insights/perspectives/2020/covid-19-and-the-australian-property-market.html \n",
    "        \n",
    "Buckman, S., Glick, R., Lansing, K., Petrosky-Nadeau, N., & Seitelman, L. (2020). Replicating and projecting the path of COVID-19 with a model-implied reproduction number. Infectious Disease Modelling, 5, 635-651. \n",
    "        https://doi.org/10.1016/j.idm.2020.08.007\n",
    "\n",
    "C¸akmakli, C., Demiralp, S., Kalemli O¨ zcan, S., Yes¸iltas, S., & A. Yıldırım, M. (2020). COVID-19 and Emerging Markets: An Epidemiological Model with International Production Networks and Capital Flows. IMF. Retrieved 21 September 2020, from \n",
    "        https://www.imf.org/en/Publications/WP/Issues/2020/07/17/COVID-19-and-Emerging-Markets-An-Epidemiological-Model-with-International-Production-49566.\n",
    "\n",
    "Coibion, O., Gorodnichenko, Y., & Weber, M. (2020). The Cost of the Covid-19 Crisis: Lockdowns, Macroeconomic Expectations, and Consumer Spending. NBER. Retrieved 20 September 2020, from \n",
    "        https://www.nber.org/papers/w27141.\n",
    "        \n",
    "Evans, R., Rosewall, T., & Wong, A. (2020). The Rental Market and COVID-19 | Bulletin – September Quarter 2020. Reserve Bank of Australia. Retrieved 22 September 2020, from https://www.rba.gov.au/publications/bulletin/2020/sep/the-rental-market-and-covid-\n",
    "        19.html#:~:text=The%20COVID%2D19%20pandemic%20is,closures%20have%20reduced%20international%20arrivals.\n",
    "        \n",
    "GordCollins. (2020, September). Australia Housing Market 2021. ManageCasa.\n",
    "    https://managecasa.com/articles/australia-housing-market/\n",
    "\n",
    " \n",
    "Holmdahl, I., & Buckee, C. (2020). Wrong but Useful — What Covid-19 Epidemiologic Models Can and Cannot Tell Us. New England Journal Of Medicine, 383(4), 303-305. \n",
    "        https://doi.org/10.1056/nejmp2016822\n",
    " \n",
    "McNeil-Willson, R. (2020). Framing in times of crisis: Responses to COVID-19 amongst Far Right movements and organisations. Icct.nl. Retrieved 20 September 2020, from \n",
    "        https://icct.nl/wp-content/uploads/2020/06/Framing-in-times-of-crisis-Responses-to-COVID-19-amongst-Far-Right-movements-and-organisations.pdf.\n",
    "\n",
    "Medium. (2018, August). Markov Chain: Simple example with Python. \n",
    "    https://medium.com/@balamurali_m/markov-chain-simple-example-with-python-985d33b14d19 \n",
    "\n",
    "Michael Yardney’s Property Update (2020, September). This week’s Australian Property Market Update - Latest Data, State by State 21st September. Property Update\n",
    "        https://propertyupdate.com.au/australian-property-market/ \n",
    "\n",
    "Naaman Zhou. (2020, March 12). Australian government unveils $17.6bn stimulus package as coronavirus hammers stock market. The Guardian; The Guardian. \n",
    "        https://www.theguardian.com/world/2020/mar/12/australian-government-unveils-176bn-stimulus-package-as-coronavirus-hammers-stock-market \n",
    "        \n",
    "NSW Government. (2020, January). Sydney Housing Supply Forecast. Research and Demography.\n",
    "        https://www.planning.nsw.gov.au/Research-and-Demography/Sydney-Housing-Supply-Forecast\n",
    "        \n",
    "Random Walks [Introduction to Human-centred Complex Systems 41189 Lecture notes]. Canvas UTS Online. \n",
    "        https://canvas.uts.edu.au/courses/15782/pages/random-walks?module_item_id=331037\n",
    "        \n",
    "Residential Property Price Indexes: Eight Capital Cities, June 2020. Australian Bureau of Statistics. (2020). Retrieved 21 September 2020, from \n",
    "        https://www.abs.gov.au/statistics/economy/price-indexes-and-inflation/residential-property-price-indexes-eight-capital-cities/latest-release.\n",
    " \n",
    "Saunders, T., Tulip, P. (2019, March).  A Model of the Australian Housing Market. Economic Research Department Reserve Bank of Australia. \n",
    "        https://www.rba.gov.au/publications/rdp/2019/pdf/rdp2019-01.pdf\n",
    "\n",
    "World Health Organization. (2004). WHO SARS Risk Assessment and Preparedness Framework. World Health Organization. Retrieved from \n",
    "        https://www.who.int/csr/resources/publications/CDS_CSR_ARO_2004_2.pdf?ua=1\n",
    " \n",
    "Wang, C., Pan, R., Wan, X., Tan, Y., Xu, L., Ho, C., & Ho, R. (2020). Immediate Psychological Responses and Associated Factors during the Initial Stage of the 2019 Coronavirus Disease (COVID-19) Epidemic among the General Population in China. International Journal Of Environmental Research And Public Health, 17(5), 1729. \n",
    "        https://doi.org/10.3390/ijerph17051729\n",
    "     \n",
    "Wang, J. (2020). Mathematical models for COVID-19: applications, limitations, and potentials. Journal Of Public Health And Emergency, 4, 9-9. \n",
    "        https://doi.org/10.21037/jphe-2020-05\n",
    "\n",
    "Yardney, M. (2020, September 13). Sydney property market outlook. Michael Yardney’s Property Update. https://propertyupdate.com.au/property-investment-sydney/\n"
   ]
  },
  {
   "cell_type": "markdown",
   "metadata": {
    "toc-hr-collapsed": false
   },
   "source": [
    "# Implementation"
   ]
  },
  {
   "cell_type": "markdown",
   "metadata": {},
   "source": [
    "## Describe the mathematical and/or statistical implementation of your three models. This should be done using Python code."
   ]
  },
  {
   "cell_type": "markdown",
   "metadata": {},
   "source": [
    "# Decision Tree "
   ]
  },
  {
   "cell_type": "code",
   "execution_count": 2,
   "metadata": {},
   "outputs": [],
   "source": [
    "# Load libraries\n",
    "import pandas as pd\n",
    "from sklearn.tree import DecisionTreeClassifier # Import Decision Tree Classifier\n",
    "from sklearn.model_selection import train_test_split # Import train_test_split function\n",
    "from sklearn import metrics #Import scikit-learn metrics module for accuracy calculation"
   ]
  },
  {
   "cell_type": "code",
   "execution_count": 40,
   "metadata": {},
   "outputs": [
    {
     "data": {
      "text/html": [
       "<div>\n",
       "<style scoped>\n",
       "    .dataframe tbody tr th:only-of-type {\n",
       "        vertical-align: middle;\n",
       "    }\n",
       "\n",
       "    .dataframe tbody tr th {\n",
       "        vertical-align: top;\n",
       "    }\n",
       "\n",
       "    .dataframe thead th {\n",
       "        text-align: right;\n",
       "    }\n",
       "</style>\n",
       "<table border=\"1\" class=\"dataframe\">\n",
       "  <thead>\n",
       "    <tr style=\"text-align: right;\">\n",
       "      <th></th>\n",
       "      <th>Week</th>\n",
       "      <th>Covid-19 Cases</th>\n",
       "      <th>Cash Rate</th>\n",
       "      <th>Unemployment Rate</th>\n",
       "      <th>Average Price</th>\n",
       "      <th>Total_Sales</th>\n",
       "    </tr>\n",
       "  </thead>\n",
       "  <tbody>\n",
       "    <tr>\n",
       "      <th>0</th>\n",
       "      <td>1</td>\n",
       "      <td>0</td>\n",
       "      <td>0.75</td>\n",
       "      <td>5.3</td>\n",
       "      <td>1051000</td>\n",
       "      <td>48</td>\n",
       "    </tr>\n",
       "    <tr>\n",
       "      <th>1</th>\n",
       "      <td>2</td>\n",
       "      <td>0</td>\n",
       "      <td>0.75</td>\n",
       "      <td>5.3</td>\n",
       "      <td>1051000</td>\n",
       "      <td>48</td>\n",
       "    </tr>\n",
       "    <tr>\n",
       "      <th>2</th>\n",
       "      <td>3</td>\n",
       "      <td>0</td>\n",
       "      <td>0.75</td>\n",
       "      <td>5.3</td>\n",
       "      <td>1051000</td>\n",
       "      <td>48</td>\n",
       "    </tr>\n",
       "    <tr>\n",
       "      <th>3</th>\n",
       "      <td>4</td>\n",
       "      <td>4</td>\n",
       "      <td>0.75</td>\n",
       "      <td>5.3</td>\n",
       "      <td>1051000</td>\n",
       "      <td>48</td>\n",
       "    </tr>\n",
       "    <tr>\n",
       "      <th>4</th>\n",
       "      <td>5</td>\n",
       "      <td>4</td>\n",
       "      <td>0.75</td>\n",
       "      <td>5.1</td>\n",
       "      <td>1100000</td>\n",
       "      <td>49</td>\n",
       "    </tr>\n",
       "  </tbody>\n",
       "</table>\n",
       "</div>"
      ],
      "text/plain": [
       "   Week  Covid-19 Cases  Cash Rate  Unemployment Rate  Average Price  \\\n",
       "0     1               0       0.75                5.3        1051000   \n",
       "1     2               0       0.75                5.3        1051000   \n",
       "2     3               0       0.75                5.3        1051000   \n",
       "3     4               4       0.75                5.3        1051000   \n",
       "4     5               4       0.75                5.1        1100000   \n",
       "\n",
       "   Total_Sales  \n",
       "0           48  \n",
       "1           48  \n",
       "2           48  \n",
       "3           48  \n",
       "4           49  "
      ]
     },
     "execution_count": 40,
     "metadata": {},
     "output_type": "execute_result"
    }
   ],
   "source": [
    "col_names = ['Week','Covid-19 Cases','Cash Rate','Unemployment Rate','Average Price','Total_Sales']\n",
    "# load dataset\n",
    "df = pd.read_csv(\"new-decision-tree-data3.csv\") \n",
    "df.head()"
   ]
  },
  {
   "cell_type": "code",
   "execution_count": 41,
   "metadata": {},
   "outputs": [],
   "source": [
    "#split dataset in features and target variable\n",
    "X = df[['Week','Covid-19 Cases','Cash Rate','Unemployment Rate','Average Price']] # Features"
   ]
  },
  {
   "cell_type": "code",
   "execution_count": 42,
   "metadata": {},
   "outputs": [
    {
     "data": {
      "text/plain": [
       "(41, 5)"
      ]
     },
     "execution_count": 42,
     "metadata": {},
     "output_type": "execute_result"
    }
   ],
   "source": [
    "X.shape"
   ]
  },
  {
   "cell_type": "code",
   "execution_count": 43,
   "metadata": {},
   "outputs": [],
   "source": [
    "y = df['Total_Sales'] # Target variable"
   ]
  },
  {
   "cell_type": "code",
   "execution_count": 44,
   "metadata": {},
   "outputs": [],
   "source": [
    "# Split dataset into training set and test set\n",
    "X_train, X_test, y_train, y_test = train_test_split(X, y, test_size=0.3, random_state=1) # 70% training and 30% test"
   ]
  },
  {
   "cell_type": "code",
   "execution_count": 45,
   "metadata": {},
   "outputs": [],
   "source": [
    "# Create Decision Tree classifer object\n",
    "clf = DecisionTreeClassifier()\n",
    "# Train Decision Tree Classifer\n",
    "clf = clf.fit(X_train,y_train)\n",
    "#Predict the response for test dataset\n",
    "y_pred = clf.predict(X_test)"
   ]
  },
  {
   "cell_type": "code",
   "execution_count": 46,
   "metadata": {},
   "outputs": [
    {
     "name": "stdout",
     "output_type": "stream",
     "text": [
      "Accuracy: 0.8461538461538461\n"
     ]
    }
   ],
   "source": [
    "# Model Accuracy, how often is the classifier correct?\n",
    "print(\"Accuracy:\",metrics.accuracy_score(y_test, y_pred))\n",
    "Accuracy: 0.6753246753246753"
   ]
  },
  {
   "cell_type": "code",
   "execution_count": 47,
   "metadata": {},
   "outputs": [],
   "source": [
    "from sklearn import tree"
   ]
  },
  {
   "cell_type": "code",
   "execution_count": 48,
   "metadata": {},
   "outputs": [
    {
     "data": {
      "text/plain": [
       "[Text(167.40000000000003, 195.696, 'X[1] <= 2983.0\\ngini = 0.809\\nsamples = 28\\nvalue = [5, 2, 2, 8, 6, 4, 1]'),\n",
       " Text(66.96000000000001, 152.208, 'X[0] <= 3.5\\ngini = 0.571\\nsamples = 14\\nvalue = [0, 0, 2, 8, 0, 4, 0]'),\n",
       " Text(33.480000000000004, 108.72, 'gini = 0.0\\nsamples = 2\\nvalue = [0, 0, 2, 0, 0, 0, 0]'),\n",
       " Text(100.44000000000001, 108.72, 'X[2] <= 0.625\\ngini = 0.444\\nsamples = 12\\nvalue = [0, 0, 0, 8, 0, 4, 0]'),\n",
       " Text(66.96000000000001, 65.232, 'X[0] <= 12.5\\ngini = 0.5\\nsamples = 8\\nvalue = [0, 0, 0, 4, 0, 4, 0]'),\n",
       " Text(33.480000000000004, 21.744, 'gini = 0.0\\nsamples = 4\\nvalue = [0, 0, 0, 0, 0, 4, 0]'),\n",
       " Text(100.44000000000001, 21.744, 'gini = 0.0\\nsamples = 4\\nvalue = [0, 0, 0, 4, 0, 0, 0]'),\n",
       " Text(133.92000000000002, 65.232, 'gini = 0.0\\nsamples = 4\\nvalue = [0, 0, 0, 4, 0, 0, 0]'),\n",
       " Text(267.84000000000003, 152.208, 'X[1] <= 3888.5\\ngini = 0.663\\nsamples = 14\\nvalue = [5, 2, 0, 0, 6, 0, 1]'),\n",
       " Text(234.36, 108.72, 'X[1] <= 3645.0\\ngini = 0.494\\nsamples = 9\\nvalue = [0, 2, 0, 0, 6, 0, 1]'),\n",
       " Text(200.88000000000002, 65.232, 'X[4] <= 1113500.0\\ngini = 0.245\\nsamples = 7\\nvalue = [0, 0, 0, 0, 6, 0, 1]'),\n",
       " Text(167.40000000000003, 21.744, 'gini = 0.0\\nsamples = 1\\nvalue = [0, 0, 0, 0, 0, 0, 1]'),\n",
       " Text(234.36, 21.744, 'gini = 0.0\\nsamples = 6\\nvalue = [0, 0, 0, 0, 6, 0, 0]'),\n",
       " Text(267.84000000000003, 65.232, 'gini = 0.0\\nsamples = 2\\nvalue = [0, 2, 0, 0, 0, 0, 0]'),\n",
       " Text(301.32000000000005, 108.72, 'gini = 0.0\\nsamples = 5\\nvalue = [5, 0, 0, 0, 0, 0, 0]')]"
      ]
     },
     "execution_count": 48,
     "metadata": {},
     "output_type": "execute_result"
    },
    {
     "data": {
      "image/png": "[encoded data removed]",
      "text/plain": [
       "<Figure size 432x288 with 1 Axes>"
      ]
     },
     "metadata": {
      "needs_background": "light"
     },
     "output_type": "display_data"
    }
   ],
   "source": [
    "tree.plot_tree(clf) "
   ]
  },
  {
   "cell_type": "markdown",
   "metadata": {},
   "source": [
    "# Random Walks"
   ]
  },
  {
   "cell_type": "code",
   "execution_count": 15,
   "metadata": {
    "jupyter": {
     "source_hidden": true
    }
   },
   "outputs": [
    {
     "data": {
      "image/png": "[encoded data removed]",
      "text/plain": [
       "<Figure size 432x288 with 1 Axes>"
      ]
     },
     "metadata": {
      "needs_background": "light"
     },
     "output_type": "display_data"
    }
   ],
   "source": [
    "from random import seed\n",
    "from random import random \n",
    "from matplotlib import pyplot\n",
    "seed(1)\n",
    "random_walk = list()\n",
    "random_walk.append(-1 if random () < 0.5 else 1)\n",
    "for i in range (1, 1000):\n",
    "    movement = -1 if random() < 0.5 else 1\n",
    "    value = random_walk[i-1] + movement \n",
    "    random_walk.append(value)\n",
    "pyplot.plot(random_walk)\n",
    "pyplot.show()"
   ]
  },
  {
   "cell_type": "markdown",
   "metadata": {},
   "source": [
    "# Markov Model"
   ]
  },
  {
   "cell_type": "code",
   "execution_count": 8,
   "metadata": {},
   "outputs": [
    {
     "data": {
      "text/plain": [
       "Text(0, 0.5, 'Number of customers')"
      ]
     },
     "execution_count": 8,
     "metadata": {},
     "output_type": "execute_result"
    },
    {
     "data": {
      "image/png": "[encoded data removed]",
      "text/plain": [
       "<Figure size 792x576 with 1 Axes>"
      ]
     },
     "metadata": {
      "needs_background": "light"
     },
     "output_type": "display_data"
    }
   ],
   "source": [
    "import numpy as np\n",
    "a_val,b_val,c_val = [],[],[]\n",
    "# initial state\n",
    "init_state = np.array([188969, 81356, 14210])\n",
    "# transition matrix\n",
    "a = np.array([[ 0.89, 0.75 ,0.49], [ 0.10, 0.22 ,0.44], [ 0.01, 0.03 ,0.07]])\n",
    "for x in range(10):\n",
    "    a_val.append(init_state[0])\n",
    "    b_val.append(init_state[1])\n",
    "    c_val.append(init_state[2])\n",
    "    b = init_state\n",
    "    init_state = a.dot(b)\n",
    "# plotting\n",
    "import matplotlib.pyplot as plt\n",
    "plt.figure(figsize=(11,8))\n",
    "plt.plot( [x for x in range(10)], a_val, marker='o', markerfacecolor='blue', markersize=12, color='skyblue', linewidth=4,label=' + Housing Prices')\n",
    "plt.plot( [x for x in range(10)], b_val, marker='o', markerfacecolor='red', markersize=12, color='pink', linewidth=4,label=' - Housing prices')\n",
    "plt.plot( [x for x in range(10)], c_val, marker='o', markerfacecolor='orange', markersize=12, color='yellow', linewidth=4,label=' = Housing prices')\n",
    "plt.legend(loc='best')\n",
    "plt.xlabel('Current state')\n",
    "plt.ylabel('Next state')"
   ]
  },
  {
   "cell_type": "code",
   "execution_count": 1,
   "metadata": {},
   "outputs": [
    {
     "data": {
      "text/plain": [
       "Text(0, 0.5, 'Next state')"
      ]
     },
     "execution_count": 1,
     "metadata": {},
     "output_type": "execute_result"
    },
    {
     "data": {
      "image/png": "[encoded data removed]",
      "text/plain": [
       "<Figure size 792x576 with 1 Axes>"
      ]
     },
     "metadata": {
      "needs_background": "light"
     },
     "output_type": "display_data"
    }
   ],
   "source": [
    "import numpy as np\n",
    "a_val,b_val,c_val = [],[],[]\n",
    "# initial state\n",
    "init_state = np.array([188969, 81356, 14210])\n",
    "# transition matrix\n",
    "a = np.array([[ 0.89, 0.75 ,0.49], [ 0.10, 0.22 ,0.44], [ 0.01, 0.03 ,0.07]])\n",
    "for x in range(10):\n",
    "    a_val.append(init_state[0])\n",
    "    b_val.append(init_state[1])\n",
    "    c_val.append(init_state[2])\n",
    "    b = init_state\n",
    "    init_state = a.dot(b)\n",
    "# plotting\n",
    "import matplotlib.pyplot as plt\n",
    "plt.figure(figsize=(11,8))\n",
    "plt.plot( [x for x in range(10)], a_val, marker='o', markerfacecolor='blue', markersize=12, color='skyblue', linewidth=4,label=' + Housing Prices')\n",
    "plt.plot( [x for x in range(10)], b_val, marker='o', markerfacecolor='red', markersize=12, color='pink', linewidth=4,label=' - Housing prices')\n",
    "plt.plot( [x for x in range(10)], c_val, marker='o', markerfacecolor='orange', markersize=12, color='yellow', linewidth=4,label=' = Housing prices')\n",
    "plt.legend(loc='best')\n",
    "plt.xlabel('Current state')\n",
    "plt.ylabel('Next state')"
   ]
  },
  {
   "cell_type": "markdown",
   "metadata": {
    "toc-hr-collapsed": false
   },
   "source": [
    "# Scenario analysis, sensitivity + uncertainty evaluation"
   ]
  },
  {
   "cell_type": "markdown",
   "metadata": {},
   "source": [
    "## Establish baseline parameter sets and or configuration for output scenarios"
   ]
  },
  {
   "cell_type": "code",
   "execution_count": null,
   "metadata": {},
   "outputs": [],
   "source": []
  },
  {
   "cell_type": "code",
   "execution_count": null,
   "metadata": {},
   "outputs": [],
   "source": []
  },
  {
   "cell_type": "code",
   "execution_count": null,
   "metadata": {},
   "outputs": [],
   "source": []
  },
  {
   "cell_type": "markdown",
   "metadata": {},
   "source": [
    "## Perform a basic sensitivity analysis, i.e., identify which parameters are most sensitive/insensitive for the outputs"
   ]
  },
  {
   "cell_type": "code",
   "execution_count": null,
   "metadata": {},
   "outputs": [],
   "source": []
  },
  {
   "cell_type": "code",
   "execution_count": null,
   "metadata": {},
   "outputs": [],
   "source": []
  },
  {
   "cell_type": "code",
   "execution_count": null,
   "metadata": {},
   "outputs": [],
   "source": []
  },
  {
   "cell_type": "markdown",
   "metadata": {
    "toc-hr-collapsed": false
   },
   "source": [
    "# Proposed solutions"
   ]
  },
  {
   "cell_type": "markdown",
   "metadata": {},
   "source": [
    "## Discuss potential portfolio of solutions based on your previous analysis\n"
   ]
  },
  {
   "cell_type": "code",
   "execution_count": null,
   "metadata": {},
   "outputs": [],
   "source": []
  },
  {
   "cell_type": "code",
   "execution_count": null,
   "metadata": {},
   "outputs": [],
   "source": []
  },
  {
   "cell_type": "code",
   "execution_count": null,
   "metadata": {},
   "outputs": [],
   "source": []
  },
  {
   "cell_type": "markdown",
   "metadata": {
    "toc-hr-collapsed": false
   },
   "source": [
    "# Reflection on group + individual approach to assignment"
   ]
  },
  {
   "cell_type": "markdown",
   "metadata": {},
   "source": [
    "## Each student should discuss their experiences about working on the project. The document should be no more than 1000 words per group member. It should discuss following key aspects:\n",
    "\n",
    "- Your contribution in the project\n",
    "- Other group members’ contributions\n",
    "- What positives do you take from this project? What did you learn from this project?\n",
    "- What challenges did you face in this project and how you overcame those?\n",
    "- If you are faced with dealing with a real-world problem and need to do some modelling, how would you determine which modelling approach to take. Justify your response."
   ]
  },
  {
   "cell_type": "markdown",
   "metadata": {},
   "source": [
    "### Group member 1 reflection"
   ]
  },
  {
   "cell_type": "code",
   "execution_count": null,
   "metadata": {},
   "outputs": [],
   "source": []
  },
  {
   "cell_type": "markdown",
   "metadata": {},
   "source": [
    "### Group member 2 reflection"
   ]
  },
  {
   "cell_type": "code",
   "execution_count": null,
   "metadata": {},
   "outputs": [],
   "source": []
  },
  {
   "cell_type": "markdown",
   "metadata": {},
   "source": [
    "### Group member 3 reflection"
   ]
  },
  {
   "cell_type": "code",
   "execution_count": null,
   "metadata": {},
   "outputs": [],
   "source": []
  },
  {
   "cell_type": "markdown",
   "metadata": {},
   "source": [
    "### Group member 4 reflection"
   ]
  },
  {
   "cell_type": "code",
   "execution_count": null,
   "metadata": {},
   "outputs": [],
   "source": []
  }
 ],
 "metadata": {
  "kernelspec": {
   "display_name": "Python 3",
   "language": "python",
   "name": "python3"
  },
  "language_info": {
   "codemirror_mode": {
    "name": "ipython",
    "version": 3
   },
   "file_extension": ".py",
   "mimetype": "text/x-python",
   "name": "python",
   "nbconvert_exporter": "python",
   "pygments_lexer": "ipython3",
   "version": "3.8.3"
  },
  "toc-autonumbering": true
 },
 "nbformat": 4,
 "nbformat_minor": 4
}
